{
 "cells": [
  {
   "cell_type": "markdown",
   "metadata": {},
   "source": [
    "# 선제골과 경기 결과간의 상관관계"
   ]
  },
  {
   "cell_type": "markdown",
   "metadata": {},
   "source": [
    "## 기본 컨셉\n",
    "* 선제골 여부가 경기 결과에 영향을 줄 것이다"
   ]
  },
  {
   "cell_type": "markdown",
   "metadata": {},
   "source": [
    "## 사용 데이터\n",
    "* 2013~2017년 득점 기록 중 선제골 기록을 추출\n",
    "* 경기의 주체는 Home 팀으로 가정"
   ]
  },
  {
   "cell_type": "markdown",
   "metadata": {},
   "source": [
    "## 데이터 추출"
   ]
  },
  {
   "cell_type": "code",
   "execution_count": 2,
   "metadata": {},
   "outputs": [],
   "source": [
    "import db_conn\n",
    "import pandas as pd\n",
    "import numpy as np\n",
    "import copy\n",
    "import scipy.stats as st"
   ]
  },
  {
   "cell_type": "markdown",
   "metadata": {},
   "source": [
    "##### goal_records Table"
   ]
  },
  {
   "cell_type": "code",
   "execution_count": 3,
   "metadata": {},
   "outputs": [],
   "source": [
    "sql = \"\"\"SELECT CONCAT(year, \"-\", division, \"-\", LPAD(match_id, 3, \"0\")) as match_id, opening_goal, goal_time, score_team_id\n",
    "FROM (\n",
    "SELECT year, division, goal.match_id, min(id) as opening_goal, (half_type - 1) *45 + play_time as goal_time,\n",
    "  (SELECT team_id FROM team_info WHERE team_name = score_team) score_team_id\n",
    "FROM goal_records as goal\n",
    "GROUP BY year, division, match_id) as t\"\"\""
   ]
  },
  {
   "cell_type": "code",
   "execution_count": 4,
   "metadata": {},
   "outputs": [],
   "source": [
    "# SQL 실행\n",
    "opening_goal_list = db_conn.select_query(sql)"
   ]
  },
  {
   "cell_type": "code",
   "execution_count": 5,
   "metadata": {},
   "outputs": [
    {
     "data": {
      "text/html": [
       "<div>\n",
       "<style scoped>\n",
       "    .dataframe tbody tr th:only-of-type {\n",
       "        vertical-align: middle;\n",
       "    }\n",
       "\n",
       "    .dataframe tbody tr th {\n",
       "        vertical-align: top;\n",
       "    }\n",
       "\n",
       "    .dataframe thead th {\n",
       "        text-align: right;\n",
       "    }\n",
       "</style>\n",
       "<table border=\"1\" class=\"dataframe\">\n",
       "  <thead>\n",
       "    <tr style=\"text-align: right;\">\n",
       "      <th></th>\n",
       "      <th>game_id</th>\n",
       "      <th>opening_goal</th>\n",
       "      <th>goal_time</th>\n",
       "      <th>score_team_id</th>\n",
       "    </tr>\n",
       "  </thead>\n",
       "  <tbody>\n",
       "    <tr>\n",
       "      <th>0</th>\n",
       "      <td>2013-1-001</td>\n",
       "      <td>2</td>\n",
       "      <td>29</td>\n",
       "      <td>10</td>\n",
       "    </tr>\n",
       "    <tr>\n",
       "      <th>1</th>\n",
       "      <td>2013-1-002</td>\n",
       "      <td>6</td>\n",
       "      <td>4</td>\n",
       "      <td>5</td>\n",
       "    </tr>\n",
       "    <tr>\n",
       "      <th>2</th>\n",
       "      <td>2013-1-003</td>\n",
       "      <td>9</td>\n",
       "      <td>28</td>\n",
       "      <td>23</td>\n",
       "    </tr>\n",
       "    <tr>\n",
       "      <th>3</th>\n",
       "      <td>2013-1-004</td>\n",
       "      <td>10</td>\n",
       "      <td>9</td>\n",
       "      <td>13</td>\n",
       "    </tr>\n",
       "    <tr>\n",
       "      <th>4</th>\n",
       "      <td>2013-1-006</td>\n",
       "      <td>13</td>\n",
       "      <td>2</td>\n",
       "      <td>7</td>\n",
       "    </tr>\n",
       "  </tbody>\n",
       "</table>\n",
       "</div>"
      ],
      "text/plain": [
       "      game_id  opening_goal  goal_time  score_team_id\n",
       "0  2013-1-001             2         29             10\n",
       "1  2013-1-002             6          4              5\n",
       "2  2013-1-003             9         28             23\n",
       "3  2013-1-004            10          9             13\n",
       "4  2013-1-006            13          2              7"
      ]
     },
     "execution_count": 5,
     "metadata": {},
     "output_type": "execute_result"
    }
   ],
   "source": [
    "columns = ['match_id', 'opening_goal', 'goal_time', 'score_team_id']\n",
    "\n",
    "data_source = [[item[key] for key in columns] for item in opening_goal_list]\n",
    "opening_goal_list_pd = pd.DataFrame(data_source, columns=columns)\n",
    "opening_goal_list_pd.columns = ['game_id', 'opening_goal', 'goal_time', 'score_team_id']\n",
    "\n",
    "opening_goal_list_pd.head()"
   ]
  },
  {
   "cell_type": "markdown",
   "metadata": {},
   "source": [
    "##### game_records Table"
   ]
  },
  {
   "cell_type": "code",
   "execution_count": 6,
   "metadata": {},
   "outputs": [],
   "source": [
    "sql = \"\"\"SELECT game_id, home_team_id, away_team_id, winning_team FROM game_records\"\"\""
   ]
  },
  {
   "cell_type": "code",
   "execution_count": 7,
   "metadata": {},
   "outputs": [],
   "source": [
    "# SQL 실행\n",
    "winning_team_list = db_conn.select_query(sql)"
   ]
  },
  {
   "cell_type": "code",
   "execution_count": 8,
   "metadata": {},
   "outputs": [
    {
     "data": {
      "text/html": [
       "<div>\n",
       "<style scoped>\n",
       "    .dataframe tbody tr th:only-of-type {\n",
       "        vertical-align: middle;\n",
       "    }\n",
       "\n",
       "    .dataframe tbody tr th {\n",
       "        vertical-align: top;\n",
       "    }\n",
       "\n",
       "    .dataframe thead th {\n",
       "        text-align: right;\n",
       "    }\n",
       "</style>\n",
       "<table border=\"1\" class=\"dataframe\">\n",
       "  <thead>\n",
       "    <tr style=\"text-align: right;\">\n",
       "      <th></th>\n",
       "      <th>game_id</th>\n",
       "      <th>home_team_id</th>\n",
       "      <th>away_team_id</th>\n",
       "      <th>winning_team</th>\n",
       "    </tr>\n",
       "  </thead>\n",
       "  <tbody>\n",
       "    <tr>\n",
       "      <th>0</th>\n",
       "      <td>2013-1-001</td>\n",
       "      <td>10</td>\n",
       "      <td>25</td>\n",
       "      <td>0</td>\n",
       "    </tr>\n",
       "    <tr>\n",
       "      <th>1</th>\n",
       "      <td>2013-1-002</td>\n",
       "      <td>19</td>\n",
       "      <td>5</td>\n",
       "      <td>19</td>\n",
       "    </tr>\n",
       "    <tr>\n",
       "      <th>2</th>\n",
       "      <td>2013-1-003</td>\n",
       "      <td>21</td>\n",
       "      <td>23</td>\n",
       "      <td>23</td>\n",
       "    </tr>\n",
       "    <tr>\n",
       "      <th>3</th>\n",
       "      <td>2013-1-004</td>\n",
       "      <td>12</td>\n",
       "      <td>13</td>\n",
       "      <td>13</td>\n",
       "    </tr>\n",
       "    <tr>\n",
       "      <th>4</th>\n",
       "      <td>2013-1-005</td>\n",
       "      <td>20</td>\n",
       "      <td>2</td>\n",
       "      <td>0</td>\n",
       "    </tr>\n",
       "  </tbody>\n",
       "</table>\n",
       "</div>"
      ],
      "text/plain": [
       "      game_id  home_team_id  away_team_id  winning_team\n",
       "0  2013-1-001            10            25             0\n",
       "1  2013-1-002            19             5            19\n",
       "2  2013-1-003            21            23            23\n",
       "3  2013-1-004            12            13            13\n",
       "4  2013-1-005            20             2             0"
      ]
     },
     "execution_count": 8,
     "metadata": {},
     "output_type": "execute_result"
    }
   ],
   "source": [
    "columns = ['game_id', 'home_team_id', 'away_team_id', 'winning_team']\n",
    "\n",
    "data_source = [[item[key] for key in columns] for item in winning_team_list]\n",
    "winning_team_list_pd = pd.DataFrame(data_source, columns=columns)\n",
    "\n",
    "winning_team_list_pd.head()"
   ]
  },
  {
   "cell_type": "markdown",
   "metadata": {},
   "source": [
    "## 데이터 전처리\n",
    "\n",
    "* remain_time: 선제골 이후 남은 경기 시간의 비율 (90분 기준) \n",
    "* opening_team_flag: Home 팀이 선제골을 넣었는지 여부\n",
    "* winning_team_flag: Home 팀 기준 경기 결과 (1: 승, 0: 무, -1: 패)"
   ]
  },
  {
   "cell_type": "code",
   "execution_count": 9,
   "metadata": {},
   "outputs": [
    {
     "data": {
      "text/html": [
       "<div>\n",
       "<style scoped>\n",
       "    .dataframe tbody tr th:only-of-type {\n",
       "        vertical-align: middle;\n",
       "    }\n",
       "\n",
       "    .dataframe tbody tr th {\n",
       "        vertical-align: top;\n",
       "    }\n",
       "\n",
       "    .dataframe thead th {\n",
       "        text-align: right;\n",
       "    }\n",
       "</style>\n",
       "<table border=\"1\" class=\"dataframe\">\n",
       "  <thead>\n",
       "    <tr style=\"text-align: right;\">\n",
       "      <th></th>\n",
       "      <th>opening_goal</th>\n",
       "      <th>goal_time</th>\n",
       "      <th>score_team_id</th>\n",
       "      <th>home_team_id</th>\n",
       "      <th>away_team_id</th>\n",
       "      <th>winning_team</th>\n",
       "      <th>remain_time</th>\n",
       "      <th>opening_team_flag</th>\n",
       "      <th>winning_team_flag</th>\n",
       "    </tr>\n",
       "  </thead>\n",
       "  <tbody>\n",
       "    <tr>\n",
       "      <th>count</th>\n",
       "      <td>1934.000000</td>\n",
       "      <td>1934.000000</td>\n",
       "      <td>1934.000000</td>\n",
       "      <td>1934.000000</td>\n",
       "      <td>1934.000000</td>\n",
       "      <td>1934.000000</td>\n",
       "      <td>1934.000000</td>\n",
       "      <td>1934.000000</td>\n",
       "      <td>1934.000000</td>\n",
       "    </tr>\n",
       "    <tr>\n",
       "      <th>mean</th>\n",
       "      <td>2713.576525</td>\n",
       "      <td>34.661324</td>\n",
       "      <td>12.824199</td>\n",
       "      <td>12.746122</td>\n",
       "      <td>12.734747</td>\n",
       "      <td>10.382627</td>\n",
       "      <td>0.614874</td>\n",
       "      <td>0.534126</td>\n",
       "      <td>0.067218</td>\n",
       "    </tr>\n",
       "    <tr>\n",
       "      <th>std</th>\n",
       "      <td>1576.204712</td>\n",
       "      <td>24.719504</td>\n",
       "      <td>7.380089</td>\n",
       "      <td>7.497002</td>\n",
       "      <td>7.397058</td>\n",
       "      <td>8.477683</td>\n",
       "      <td>0.274661</td>\n",
       "      <td>0.498963</td>\n",
       "      <td>0.886544</td>\n",
       "    </tr>\n",
       "    <tr>\n",
       "      <th>min</th>\n",
       "      <td>2.000000</td>\n",
       "      <td>0.000000</td>\n",
       "      <td>1.000000</td>\n",
       "      <td>1.000000</td>\n",
       "      <td>1.000000</td>\n",
       "      <td>0.000000</td>\n",
       "      <td>-0.055556</td>\n",
       "      <td>0.000000</td>\n",
       "      <td>-1.000000</td>\n",
       "    </tr>\n",
       "    <tr>\n",
       "      <th>25%</th>\n",
       "      <td>1353.500000</td>\n",
       "      <td>13.000000</td>\n",
       "      <td>7.000000</td>\n",
       "      <td>6.000000</td>\n",
       "      <td>6.000000</td>\n",
       "      <td>2.000000</td>\n",
       "      <td>0.422222</td>\n",
       "      <td>0.000000</td>\n",
       "      <td>-1.000000</td>\n",
       "    </tr>\n",
       "    <tr>\n",
       "      <th>50%</th>\n",
       "      <td>2677.000000</td>\n",
       "      <td>30.000000</td>\n",
       "      <td>12.000000</td>\n",
       "      <td>12.000000</td>\n",
       "      <td>12.000000</td>\n",
       "      <td>10.000000</td>\n",
       "      <td>0.666667</td>\n",
       "      <td>1.000000</td>\n",
       "      <td>0.000000</td>\n",
       "    </tr>\n",
       "    <tr>\n",
       "      <th>75%</th>\n",
       "      <td>4083.250000</td>\n",
       "      <td>52.000000</td>\n",
       "      <td>20.000000</td>\n",
       "      <td>20.000000</td>\n",
       "      <td>19.000000</td>\n",
       "      <td>18.000000</td>\n",
       "      <td>0.855556</td>\n",
       "      <td>1.000000</td>\n",
       "      <td>1.000000</td>\n",
       "    </tr>\n",
       "    <tr>\n",
       "      <th>max</th>\n",
       "      <td>5461.000000</td>\n",
       "      <td>95.000000</td>\n",
       "      <td>25.000000</td>\n",
       "      <td>25.000000</td>\n",
       "      <td>25.000000</td>\n",
       "      <td>25.000000</td>\n",
       "      <td>1.000000</td>\n",
       "      <td>1.000000</td>\n",
       "      <td>1.000000</td>\n",
       "    </tr>\n",
       "  </tbody>\n",
       "</table>\n",
       "</div>"
      ],
      "text/plain": [
       "       opening_goal    goal_time  score_team_id  home_team_id  away_team_id  \\\n",
       "count   1934.000000  1934.000000    1934.000000   1934.000000   1934.000000   \n",
       "mean    2713.576525    34.661324      12.824199     12.746122     12.734747   \n",
       "std     1576.204712    24.719504       7.380089      7.497002      7.397058   \n",
       "min        2.000000     0.000000       1.000000      1.000000      1.000000   \n",
       "25%     1353.500000    13.000000       7.000000      6.000000      6.000000   \n",
       "50%     2677.000000    30.000000      12.000000     12.000000     12.000000   \n",
       "75%     4083.250000    52.000000      20.000000     20.000000     19.000000   \n",
       "max     5461.000000    95.000000      25.000000     25.000000     25.000000   \n",
       "\n",
       "       winning_team  remain_time  opening_team_flag  winning_team_flag  \n",
       "count   1934.000000  1934.000000        1934.000000        1934.000000  \n",
       "mean      10.382627     0.614874           0.534126           0.067218  \n",
       "std        8.477683     0.274661           0.498963           0.886544  \n",
       "min        0.000000    -0.055556           0.000000          -1.000000  \n",
       "25%        2.000000     0.422222           0.000000          -1.000000  \n",
       "50%       10.000000     0.666667           1.000000           0.000000  \n",
       "75%       18.000000     0.855556           1.000000           1.000000  \n",
       "max       25.000000     1.000000           1.000000           1.000000  "
      ]
     },
     "execution_count": 9,
     "metadata": {},
     "output_type": "execute_result"
    }
   ],
   "source": [
    "home_opening_pd = pd.merge(opening_goal_list_pd, winning_team_list_pd, on='game_id')\n",
    "home_opening_pd = pd.DataFrame(home_opening_pd, columns = ['game_id', 'opening_goal', 'goal_time', 'score_team_id', 'home_team_id', 'away_team_id', 'winning_team', 'remain_time', 'opening_team_flag', 'winning_team_flag'])\n",
    "away_opening_pd = copy.deepcopy(home_opening_pd)\n",
    "\n",
    "home_opening_pd.opening_team_flag = (home_opening_pd.score_team_id == home_opening_pd.home_team_id) * 1\n",
    "away_opening_pd.opening_team_flag = (away_opening_pd.score_team_id == away_opening_pd.away_team_id) * 1\n",
    "\n",
    "# 승 1, 무 0, 패 -1\n",
    "home_opening_pd.winning_team_flag = np.where(home_opening_pd.winning_team == 0, 0, np.where(home_opening_pd.winning_team == home_opening_pd.home_team_id, 1, -1))\n",
    "away_opening_pd.winning_team_flag = np.where(away_opening_pd.winning_team == 0, 0, np.where(away_opening_pd.winning_team == away_opening_pd.away_team_id, 1, -1))\n",
    "\n",
    "home_opening_pd.remain_time = (90 - home_opening_pd.goal_time) / 90\n",
    "away_opening_pd.remain_time = (90 - away_opening_pd.goal_time) / 90\n",
    "\n",
    "home_opening_pd.head(), away_opening_pd.head()\n",
    "\n",
    "home_opening_pd.describe()"
   ]
  },
  {
   "cell_type": "markdown",
   "metadata": {},
   "source": [
    "## 통계치 분석"
   ]
  },
  {
   "cell_type": "markdown",
   "metadata": {},
   "source": [
    "### 선제골을 넣었을 경우 승리할 통계적 확률\n",
    "* 논문 EVALUATION OF GOALS SCORED IN TOP RANKING SOCCER MATCHES: GREEK \" SUPERLEAGUE \" 2006-07 참고"
   ]
  },
  {
   "cell_type": "markdown",
   "metadata": {},
   "source": [
    "### 기본 통계치 (HOME 기준)\n",
    "* 승리한 경기 중 선제골을 넣은 비율: 86.2%\n",
    "* 선제골을 넣은 경기 중 승리한 비율: 69.2%\n",
    " - [조건부 확률](http://benpark.tistory.com/308)(어떤 사건 A가 일어났다는 조건 하에 다른 사건 B가 일어날 확률)\n",
    " - P(B|A) = P(A∩B) / P(A)\n",
    " - 선제골(사건A)가 일어난 경우 승리(사건B)할 확률\n",
    " - P(A) = 선제골 / 전체 경기 = 1033 / 1934\n",
    " - P(B) = 승리 / 전체 경기 = 829 / 1934\n",
    " - P(A∩B) = 선제골을 넣고 승리한 경기 / 전체 경기 = 715 / 1934\n",
    " - P(B|A) = P(A∩B) / P(A) = (715 / 1934) / (1033 / 1934) = 715 / 1033"
   ]
  },
  {
   "cell_type": "code",
   "execution_count": 14,
   "metadata": {},
   "outputs": [
    {
     "data": {
      "text/html": [
       "<div>\n",
       "<style scoped>\n",
       "    .dataframe tbody tr th:only-of-type {\n",
       "        vertical-align: middle;\n",
       "    }\n",
       "\n",
       "    .dataframe tbody tr th {\n",
       "        vertical-align: top;\n",
       "    }\n",
       "\n",
       "    .dataframe thead th {\n",
       "        text-align: right;\n",
       "    }\n",
       "</style>\n",
       "<table border=\"1\" class=\"dataframe\">\n",
       "  <thead>\n",
       "    <tr style=\"text-align: right;\">\n",
       "      <th></th>\n",
       "      <th>승/무/패 중 선제골 횟수</th>\n",
       "      <th>승/무/패 경기 수</th>\n",
       "      <th>선제골 경기 수</th>\n",
       "      <th>전체 경기 수</th>\n",
       "      <th>비율(승리 중 선제골)</th>\n",
       "      <th>비율(선제골 중 승리)</th>\n",
       "    </tr>\n",
       "  </thead>\n",
       "  <tbody>\n",
       "    <tr>\n",
       "      <th>승</th>\n",
       "      <td>715</td>\n",
       "      <td>829</td>\n",
       "      <td>1033</td>\n",
       "      <td>1934</td>\n",
       "      <td>0.862485</td>\n",
       "      <td>0.692159</td>\n",
       "    </tr>\n",
       "    <tr>\n",
       "      <th>무</th>\n",
       "      <td>194</td>\n",
       "      <td>406</td>\n",
       "      <td>1033</td>\n",
       "      <td>1934</td>\n",
       "      <td>0.477833</td>\n",
       "      <td>0.187803</td>\n",
       "    </tr>\n",
       "    <tr>\n",
       "      <th>패</th>\n",
       "      <td>124</td>\n",
       "      <td>699</td>\n",
       "      <td>1033</td>\n",
       "      <td>1934</td>\n",
       "      <td>0.177396</td>\n",
       "      <td>0.120039</td>\n",
       "    </tr>\n",
       "  </tbody>\n",
       "</table>\n",
       "</div>"
      ],
      "text/plain": [
       "   승/무/패 중 선제골 횟수  승/무/패 경기 수  선제골 경기 수  전체 경기 수  비율(승리 중 선제골)  비율(선제골 중 승리)\n",
       "승             715         829      1033     1934      0.862485      0.692159\n",
       "무             194         406      1033     1934      0.477833      0.187803\n",
       "패             124         699      1033     1934      0.177396      0.120039"
      ]
     },
     "execution_count": 14,
     "metadata": {},
     "output_type": "execute_result"
    }
   ],
   "source": [
    "home_statics = [{'opening_flag': sum(home_opening_pd[home_opening_pd.winning_team_flag == 1].opening_team_flag == 1), 'winning_flag': sum(home_opening_pd.winning_team_flag == 1), 'opening_goal_flag': sum(home_opening_pd.opening_team_flag == 1), 'total': len(home_opening_pd), 'ratio1': 0, 'ratio2': 0},\n",
    "            {'opening_flag': sum(home_opening_pd[home_opening_pd.winning_team_flag == 0].opening_team_flag == 1), 'winning_flag': sum(home_opening_pd.winning_team_flag == 0), 'opening_goal_flag': sum(home_opening_pd.opening_team_flag == 1), 'total': len(home_opening_pd), 'ratio1': 0, 'ratio2': 0},\n",
    "            {'opening_flag': sum(home_opening_pd[home_opening_pd.winning_team_flag == -1].opening_team_flag == 1), 'winning_flag': sum(home_opening_pd.winning_team_flag == -1), 'opening_goal_flag': sum(home_opening_pd.opening_team_flag == 1), 'total': len(home_opening_pd), 'ratio1': 0, 'ratio2': 0}]\n",
    "home_statics_pd = pd.DataFrame(home_statics, columns=['opening_flag', 'winning_flag', 'opening_goal_flag', 'total', 'ratio1', 'ratio2'], index=['승', '무', '패'])\n",
    "home_statics_pd.ratio1 = home_statics_pd.opening_flag / home_statics_pd.winning_flag\n",
    "home_statics_pd.ratio2 = home_statics_pd.opening_flag / home_statics_pd.opening_goal_flag\n",
    "home_statics_pd.columns=['승/무/패 중 선제골 횟수', '승/무/패 경기 수', '선제골 경기 수', '전체 경기 수', '비율(승리 중 선제골)', '비율(선제골 중 승리)']\n",
    "home_statics_pd"
   ]
  },
  {
   "cell_type": "markdown",
   "metadata": {},
   "source": [
    "### 기본 통계치 (AWAY 기준)\n",
    "* 승리한 경기 중 선제골을 넣은 비율: 82.2%\n",
    "* 선제골을 넣은 경기 중 승리한 비율: 63.8%\n",
    " - P(A) = 선제골 / 전체 경기 = 901 / 1934\n",
    " - P(B) = 승리 / 전체 경기 = 699 / 1934\n",
    " - P(A∩B) = 선제골을 넣고 승리한 경기 / 전체 경기 = 575 / 1934\n",
    " - P(B|A) = P(A∩B) / P(A) = (575 / 1934) / (901 / 1934) = 575 / 901"
   ]
  },
  {
   "cell_type": "code",
   "execution_count": 15,
   "metadata": {},
   "outputs": [
    {
     "data": {
      "text/html": [
       "<div>\n",
       "<style scoped>\n",
       "    .dataframe tbody tr th:only-of-type {\n",
       "        vertical-align: middle;\n",
       "    }\n",
       "\n",
       "    .dataframe tbody tr th {\n",
       "        vertical-align: top;\n",
       "    }\n",
       "\n",
       "    .dataframe thead th {\n",
       "        text-align: right;\n",
       "    }\n",
       "</style>\n",
       "<table border=\"1\" class=\"dataframe\">\n",
       "  <thead>\n",
       "    <tr style=\"text-align: right;\">\n",
       "      <th></th>\n",
       "      <th>승/무/패 중 선제골 횟수</th>\n",
       "      <th>승/무/패 경기 수</th>\n",
       "      <th>선제골 경기 수</th>\n",
       "      <th>전체 경기 수</th>\n",
       "      <th>비율(승리 중 선제골)</th>\n",
       "      <th>비율(선제골 중 승리)</th>\n",
       "    </tr>\n",
       "  </thead>\n",
       "  <tbody>\n",
       "    <tr>\n",
       "      <th>승</th>\n",
       "      <td>575</td>\n",
       "      <td>699</td>\n",
       "      <td>901</td>\n",
       "      <td>1934</td>\n",
       "      <td>0.822604</td>\n",
       "      <td>0.638180</td>\n",
       "    </tr>\n",
       "    <tr>\n",
       "      <th>무</th>\n",
       "      <td>212</td>\n",
       "      <td>406</td>\n",
       "      <td>901</td>\n",
       "      <td>1934</td>\n",
       "      <td>0.522167</td>\n",
       "      <td>0.235294</td>\n",
       "    </tr>\n",
       "    <tr>\n",
       "      <th>패</th>\n",
       "      <td>114</td>\n",
       "      <td>829</td>\n",
       "      <td>901</td>\n",
       "      <td>1934</td>\n",
       "      <td>0.137515</td>\n",
       "      <td>0.126526</td>\n",
       "    </tr>\n",
       "  </tbody>\n",
       "</table>\n",
       "</div>"
      ],
      "text/plain": [
       "   승/무/패 중 선제골 횟수  승/무/패 경기 수  선제골 경기 수  전체 경기 수  비율(승리 중 선제골)  비율(선제골 중 승리)\n",
       "승             575         699       901     1934      0.822604      0.638180\n",
       "무             212         406       901     1934      0.522167      0.235294\n",
       "패             114         829       901     1934      0.137515      0.126526"
      ]
     },
     "execution_count": 15,
     "metadata": {},
     "output_type": "execute_result"
    }
   ],
   "source": [
    "away_statics = [{'opening_flag': sum(away_opening_pd[away_opening_pd.winning_team_flag == 1].opening_team_flag == 1), 'winning_flag': sum(away_opening_pd.winning_team_flag == 1), 'opening_goal_flag': sum(away_opening_pd.opening_team_flag == 1), 'total': len(away_opening_pd), 'ratio1': 0, 'ratio2': 0},\n",
    "            {'opening_flag': sum(away_opening_pd[away_opening_pd.winning_team_flag == 0].opening_team_flag == 1), 'winning_flag': sum(away_opening_pd.winning_team_flag == 0), 'opening_goal_flag': sum(away_opening_pd.opening_team_flag == 1), 'total': len(away_opening_pd), 'ratio1': 0, 'ratio2': 0},\n",
    "            {'opening_flag': sum(away_opening_pd[away_opening_pd.winning_team_flag == -1].opening_team_flag == 1), 'winning_flag': sum(away_opening_pd.winning_team_flag == -1), 'opening_goal_flag': sum(away_opening_pd.opening_team_flag == 1), 'total': len(away_opening_pd), 'ratio1': 0, 'ratio2': 0}]\n",
    "away_statics_pd = pd.DataFrame(away_statics, columns=['opening_flag', 'winning_flag', 'opening_goal_flag', 'total', 'ratio1', 'ratio2'], index=['승', '무', '패'])\n",
    "away_statics_pd.ratio1 = away_statics_pd.opening_flag / away_statics_pd.winning_flag\n",
    "away_statics_pd.ratio2 = away_statics_pd.opening_flag / away_statics_pd.opening_goal_flag\n",
    "away_statics_pd.columns=['승/무/패 중 선제골 횟수', '승/무/패 경기 수', '선제골 경기 수', '전체 경기 수', '비율(승리 중 선제골)', '비율(선제골 중 승리)']\n",
    "away_statics_pd"
   ]
  },
  {
   "cell_type": "markdown",
   "metadata": {},
   "source": [
    "### 기본 통계치 (합산)\n",
    "* 승리한 경기 중 선제골을 넣은 비율: 84.4%\n",
    "* 선제골을 넣은 경기 중 승리한 비율: 66.7%"
   ]
  },
  {
   "cell_type": "code",
   "execution_count": 16,
   "metadata": {},
   "outputs": [
    {
     "data": {
      "text/html": [
       "<div>\n",
       "<style scoped>\n",
       "    .dataframe tbody tr th:only-of-type {\n",
       "        vertical-align: middle;\n",
       "    }\n",
       "\n",
       "    .dataframe tbody tr th {\n",
       "        vertical-align: top;\n",
       "    }\n",
       "\n",
       "    .dataframe thead th {\n",
       "        text-align: right;\n",
       "    }\n",
       "</style>\n",
       "<table border=\"1\" class=\"dataframe\">\n",
       "  <thead>\n",
       "    <tr style=\"text-align: right;\">\n",
       "      <th></th>\n",
       "      <th>승/무/패 중 선제골 횟수</th>\n",
       "      <th>승/무/패 경기 수</th>\n",
       "      <th>선제골 경기 수</th>\n",
       "      <th>전체 경기 수</th>\n",
       "      <th>비율(승리 중 선제골)</th>\n",
       "      <th>비율(선제골 중 승리)</th>\n",
       "    </tr>\n",
       "  </thead>\n",
       "  <tbody>\n",
       "    <tr>\n",
       "      <th>승</th>\n",
       "      <td>1290</td>\n",
       "      <td>1528</td>\n",
       "      <td>1934</td>\n",
       "      <td>3868</td>\n",
       "      <td>0.844241</td>\n",
       "      <td>0.667011</td>\n",
       "    </tr>\n",
       "    <tr>\n",
       "      <th>무</th>\n",
       "      <td>406</td>\n",
       "      <td>812</td>\n",
       "      <td>1934</td>\n",
       "      <td>3868</td>\n",
       "      <td>0.500000</td>\n",
       "      <td>0.209928</td>\n",
       "    </tr>\n",
       "    <tr>\n",
       "      <th>패</th>\n",
       "      <td>238</td>\n",
       "      <td>1528</td>\n",
       "      <td>1934</td>\n",
       "      <td>3868</td>\n",
       "      <td>0.155759</td>\n",
       "      <td>0.123061</td>\n",
       "    </tr>\n",
       "  </tbody>\n",
       "</table>\n",
       "</div>"
      ],
      "text/plain": [
       "   승/무/패 중 선제골 횟수  승/무/패 경기 수  선제골 경기 수  전체 경기 수  비율(승리 중 선제골)  비율(선제골 중 승리)\n",
       "승            1290        1528      1934     3868      0.844241      0.667011\n",
       "무             406         812      1934     3868      0.500000      0.209928\n",
       "패             238        1528      1934     3868      0.155759      0.123061"
      ]
     },
     "execution_count": 16,
     "metadata": {},
     "output_type": "execute_result"
    }
   ],
   "source": [
    "total_statics_pd = home_statics_pd[['승/무/패 중 선제골 횟수', '승/무/패 경기 수', '선제골 경기 수', '전체 경기 수']] + away_statics_pd[['승/무/패 중 선제골 횟수', '승/무/패 경기 수', '선제골 경기 수', '전체 경기 수']]\n",
    "total_statics_pd = pd.DataFrame(total_statics_pd, columns=['승/무/패 중 선제골 횟수', '승/무/패 경기 수', '선제골 경기 수', '전체 경기 수', 'ratio1', 'ratio2'], index=['승', '무', '패'])\n",
    "total_statics_pd.ratio1 = total_statics_pd['승/무/패 중 선제골 횟수'] / total_statics_pd['승/무/패 경기 수']\n",
    "total_statics_pd.ratio2 = total_statics_pd['승/무/패 중 선제골 횟수'] / total_statics_pd['선제골 경기 수']\n",
    "total_statics_pd.columns=['승/무/패 중 선제골 횟수', '승/무/패 경기 수', '선제골 경기 수', '전체 경기 수', '비율(승리 중 선제골)', '비율(선제골 중 승리)']\n",
    "total_statics_pd"
   ]
  },
  {
   "cell_type": "markdown",
   "metadata": {},
   "source": [
    "## 카이제곱 검정을 통한 변수간 독립성 검증\n",
    "\n",
    "### 데이터 준비\n",
    "* 관측 데이터"
   ]
  },
  {
   "cell_type": "code",
   "execution_count": 12,
   "metadata": {},
   "outputs": [
    {
     "data": {
      "text/html": [
       "<div>\n",
       "<style scoped>\n",
       "    .dataframe tbody tr th:only-of-type {\n",
       "        vertical-align: middle;\n",
       "    }\n",
       "\n",
       "    .dataframe tbody tr th {\n",
       "        vertical-align: top;\n",
       "    }\n",
       "\n",
       "    .dataframe thead th {\n",
       "        text-align: right;\n",
       "    }\n",
       "</style>\n",
       "<table border=\"1\" class=\"dataframe\">\n",
       "  <thead>\n",
       "    <tr style=\"text-align: right;\">\n",
       "      <th></th>\n",
       "      <th>opening_flag</th>\n",
       "      <th>non_opening_flag</th>\n",
       "      <th>marginal_freq</th>\n",
       "      <th>opening</th>\n",
       "      <th>non_opening</th>\n",
       "      <th>marginal_prob</th>\n",
       "    </tr>\n",
       "  </thead>\n",
       "  <tbody>\n",
       "    <tr>\n",
       "      <th>win</th>\n",
       "      <td>1290.0</td>\n",
       "      <td>238.0</td>\n",
       "      <td>1528.0</td>\n",
       "      <td>0.197518</td>\n",
       "      <td>0.197518</td>\n",
       "      <td>0.395036</td>\n",
       "    </tr>\n",
       "    <tr>\n",
       "      <th>draw</th>\n",
       "      <td>406.0</td>\n",
       "      <td>406.0</td>\n",
       "      <td>812.0</td>\n",
       "      <td>0.104964</td>\n",
       "      <td>0.104964</td>\n",
       "      <td>0.209928</td>\n",
       "    </tr>\n",
       "    <tr>\n",
       "      <th>lose</th>\n",
       "      <td>238.0</td>\n",
       "      <td>1290.0</td>\n",
       "      <td>1528.0</td>\n",
       "      <td>0.197518</td>\n",
       "      <td>0.197518</td>\n",
       "      <td>0.395036</td>\n",
       "    </tr>\n",
       "    <tr>\n",
       "      <th>margianl_prob</th>\n",
       "      <td>1934.0</td>\n",
       "      <td>1934.0</td>\n",
       "      <td>3868.0</td>\n",
       "      <td>0.500000</td>\n",
       "      <td>0.500000</td>\n",
       "      <td>1.000000</td>\n",
       "    </tr>\n",
       "  </tbody>\n",
       "</table>\n",
       "</div>"
      ],
      "text/plain": [
       "               opening_flag  non_opening_flag  marginal_freq   opening  \\\n",
       "win                  1290.0             238.0         1528.0  0.197518   \n",
       "draw                  406.0             406.0          812.0  0.104964   \n",
       "lose                  238.0            1290.0         1528.0  0.197518   \n",
       "margianl_prob        1934.0            1934.0         3868.0  0.500000   \n",
       "\n",
       "               non_opening  marginal_prob  \n",
       "win               0.197518       0.395036  \n",
       "draw              0.104964       0.209928  \n",
       "lose              0.197518       0.395036  \n",
       "margianl_prob     0.500000       1.000000  "
      ]
     },
     "execution_count": 12,
     "metadata": {},
     "output_type": "execute_result"
    }
   ],
   "source": [
    "temp_pd = copy.deepcopy(total_statics_pd)\n",
    "temp_pd.columns=['opening_flag', 'winning_flag', 'opening_goal_flag', 'total', 'ratio1', 'ratio2']\n",
    "temp_pd.index=['win', 'draw', 'lose']\n",
    "\n",
    "joint_prob_pd = pd.DataFrame(temp_pd[['opening_flag']], columns = ['opening_flag', 'non_opening_flag', 'marginal_freq', 'opening', 'non_opening', 'marginal_prob'], index=['win', 'draw', 'lose', 'margianl_prob'])\n",
    "joint_prob_pd.marginal_freq[:3] = temp_pd.winning_flag[:3]\n",
    "joint_prob_pd.non_opening_flag = joint_prob_pd.marginal_freq - joint_prob_pd.opening_flag\n",
    "joint_prob_pd['opening_flag'][3:] = sum(joint_prob_pd['opening_flag'][:3])\n",
    "joint_prob_pd['non_opening_flag'][3:] = sum(joint_prob_pd['non_opening_flag'][:3])\n",
    "joint_prob_pd.marginal_freq = joint_prob_pd.opening_flag + joint_prob_pd.non_opening_flag\n",
    "\n",
    "total_freq = joint_prob_pd.marginal_freq[3:].values[0]\n",
    "joint_prob_pd.opening[3:] = joint_prob_pd.opening_flag[3:] / total_freq\n",
    "joint_prob_pd.non_opening[3:] = joint_prob_pd.non_opening_flag[3:] / total_freq\n",
    "joint_prob_pd.marginal_prob = joint_prob_pd.marginal_freq / total_freq\n",
    "\n",
    "joint_prob_pd.opening[:3] = joint_prob_pd.marginal_prob[:3] * joint_prob_pd.opening[3:].values[0]\n",
    "joint_prob_pd.non_opening[:3] = joint_prob_pd.marginal_prob[:3] * joint_prob_pd.non_opening[3:].values[0]\n",
    "\n",
    "joint_prob_pd"
   ]
  },
  {
   "cell_type": "markdown",
   "metadata": {},
   "source": [
    "* 예상(기대) 데이터: 기대값은 관측값의 비율을 이용하여 계산"
   ]
  },
  {
   "cell_type": "code",
   "execution_count": 13,
   "metadata": {},
   "outputs": [
    {
     "data": {
      "text/html": [
       "<div>\n",
       "<style scoped>\n",
       "    .dataframe tbody tr th:only-of-type {\n",
       "        vertical-align: middle;\n",
       "    }\n",
       "\n",
       "    .dataframe tbody tr th {\n",
       "        vertical-align: top;\n",
       "    }\n",
       "\n",
       "    .dataframe thead th {\n",
       "        text-align: right;\n",
       "    }\n",
       "</style>\n",
       "<table border=\"1\" class=\"dataframe\">\n",
       "  <thead>\n",
       "    <tr style=\"text-align: right;\">\n",
       "      <th></th>\n",
       "      <th>opening</th>\n",
       "      <th>non_opening</th>\n",
       "      <th>marginal_prob</th>\n",
       "    </tr>\n",
       "  </thead>\n",
       "  <tbody>\n",
       "    <tr>\n",
       "      <th>win</th>\n",
       "      <td>764.0</td>\n",
       "      <td>764.0</td>\n",
       "      <td>1528.0</td>\n",
       "    </tr>\n",
       "    <tr>\n",
       "      <th>draw</th>\n",
       "      <td>406.0</td>\n",
       "      <td>406.0</td>\n",
       "      <td>812.0</td>\n",
       "    </tr>\n",
       "    <tr>\n",
       "      <th>lose</th>\n",
       "      <td>764.0</td>\n",
       "      <td>764.0</td>\n",
       "      <td>1528.0</td>\n",
       "    </tr>\n",
       "    <tr>\n",
       "      <th>margianl_prob</th>\n",
       "      <td>1934.0</td>\n",
       "      <td>1934.0</td>\n",
       "      <td>3868.0</td>\n",
       "    </tr>\n",
       "  </tbody>\n",
       "</table>\n",
       "</div>"
      ],
      "text/plain": [
       "               opening  non_opening  marginal_prob\n",
       "win              764.0        764.0         1528.0\n",
       "draw             406.0        406.0          812.0\n",
       "lose             764.0        764.0         1528.0\n",
       "margianl_prob   1934.0       1934.0         3868.0"
      ]
     },
     "execution_count": 13,
     "metadata": {},
     "output_type": "execute_result"
    }
   ],
   "source": [
    "expected_prob_pd = pd.DataFrame(joint_prob_pd[['opening', 'non_opening', 'marginal_prob']])\n",
    "expected_prob_pd = expected_prob_pd * total_freq\n",
    "\n",
    "expected_prob_pd"
   ]
  },
  {
   "cell_type": "markdown",
   "metadata": {},
   "source": [
    "### 카이제곱 검정 - 독립성 테스트(Test of Independence)\n",
    "* 관측값들이 다수의 인자들에 의해 분할 되어 있는 경우 그 인자들의 관찰 값에 영향을 주고 있는지 아닌지를 검정하는 방법\n",
    "* 참고\n",
    "    * http://elearning.kocw.net/KOCW/document/2013/koreasejong/HongSungsik4/10.pdf\n",
    "    * https://m.blog.naver.com/PostView.nhn?blogId=leerider&logNo=100189714605&proxyReferer=https%3A%2F%2Fwww.google.co.kr%2F\n",
    "    * http://hamelg.blogspot.kr/2015/11/python-for-data-analysis-part-25-chi.html\n",
    "    \n",
    "#### 가설    \n",
    "* 귀무가설(H0): 선취골 득점 여부에 따라 경기결과에 차이가 없다\n",
    "* 대립가설(H1): 선취골 득점 여부에 따라 경기결과에 차이가 존재한다\n",
    "\n",
    "#### 카이제곱 검정 수행"
   ]
  },
  {
   "cell_type": "code",
   "execution_count": 14,
   "metadata": {},
   "outputs": [
    {
     "name": "stdout",
     "output_type": "stream",
     "text": [
      "[[1290.  238.]\n",
      " [ 406.  406.]\n",
      " [ 238. 1290.]]\n"
     ]
    },
    {
     "data": {
      "text/plain": [
       "(1448.565445026178, 0.0, 2, array([[764., 764.],\n",
       "        [406., 406.],\n",
       "        [764., 764.]]))"
      ]
     },
     "execution_count": 14,
     "metadata": {},
     "output_type": "execute_result"
    }
   ],
   "source": [
    "print(joint_prob_pd[:3][['opening_flag', 'non_opening_flag']].values)\n",
    "result = st.chi2_contingency(joint_prob_pd[:3][['opening_flag', 'non_opening_flag']].values)\n",
    "\n",
    "result"
   ]
  },
  {
   "cell_type": "markdown",
   "metadata": {},
   "source": [
    "#### 카이제곱 검정 결과\n",
    "* x^2는 약 721.85, p_value는 0.01보다 매우 작은 수치, 자유도는 2\n",
    "* P_value가 0.01(99%)보다 작으므로 귀무가설을 기각\n",
    "* **선취골 득점 여부에 따라 경기결과에 차이가 존재한다**"
   ]
  },
  {
   "cell_type": "code",
   "execution_count": 15,
   "metadata": {},
   "outputs": [
    {
     "name": "stdout",
     "output_type": "stream",
     "text": [
      "Win, Draw\n",
      "(313.2749650544937, 4.2248129312710823e-70, 1, array([[1107.47350427,  420.52649573],\n",
      "       [ 588.52649573,  223.47350427]]))\n",
      "Draw, Lose\n",
      "(313.27496505449363, 4.2248129312712046e-70, 1, array([[ 223.47350427,  588.52649573],\n",
      "       [ 420.52649573, 1107.47350427]]))\n",
      "Win, Lose\n",
      "(1445.8128272251308, 0.0, 1, array([[764., 764.],\n",
      "       [764., 764.]]))\n"
     ]
    }
   ],
   "source": [
    "print('Win, Draw')\n",
    "print(st.chi2_contingency(joint_prob_pd[:2][['opening_flag', 'non_opening_flag']]))\n",
    "\n",
    "print('Draw, Lose')\n",
    "print(st.chi2_contingency(joint_prob_pd[1:3][['opening_flag', 'non_opening_flag']]))\n",
    "\n",
    "print('Win, Lose')\n",
    "print(st.chi2_contingency(joint_prob_pd[0::2][['opening_flag', 'non_opening_flag']]))"
   ]
  },
  {
   "cell_type": "markdown",
   "metadata": {},
   "source": [
    "#### 추가 검정 (경기 결과를 승리 여부로 변경 시)"
   ]
  },
  {
   "cell_type": "code",
   "execution_count": 16,
   "metadata": {},
   "outputs": [
    {
     "data": {
      "text/html": [
       "<div>\n",
       "<style scoped>\n",
       "    .dataframe tbody tr th:only-of-type {\n",
       "        vertical-align: middle;\n",
       "    }\n",
       "\n",
       "    .dataframe tbody tr th {\n",
       "        vertical-align: top;\n",
       "    }\n",
       "\n",
       "    .dataframe thead th {\n",
       "        text-align: right;\n",
       "    }\n",
       "</style>\n",
       "<table border=\"1\" class=\"dataframe\">\n",
       "  <thead>\n",
       "    <tr style=\"text-align: right;\">\n",
       "      <th></th>\n",
       "      <th>opening_flag</th>\n",
       "      <th>non_opening_flag</th>\n",
       "    </tr>\n",
       "  </thead>\n",
       "  <tbody>\n",
       "    <tr>\n",
       "      <th>win</th>\n",
       "      <td>1290.0</td>\n",
       "      <td>238.0</td>\n",
       "    </tr>\n",
       "    <tr>\n",
       "      <th>non_win</th>\n",
       "      <td>644.0</td>\n",
       "      <td>1696.0</td>\n",
       "    </tr>\n",
       "  </tbody>\n",
       "</table>\n",
       "</div>"
      ],
      "text/plain": [
       "         opening_flag  non_opening_flag\n",
       "win            1290.0             238.0\n",
       "non_win         644.0            1696.0"
      ]
     },
     "execution_count": 16,
     "metadata": {},
     "output_type": "execute_result"
    }
   ],
   "source": [
    "a = pd.DataFrame(joint_prob_pd[['opening_flag', 'non_opening_flag']], index=['win', 'draw', 'lose', 'non_win'])\n",
    "a['opening_flag'][3:] = sum(a['opening_flag'][1:3])\n",
    "a['non_opening_flag'][3:] = sum(a['non_opening_flag'][1:3])\n",
    "a.iloc[[0,3]]"
   ]
  },
  {
   "cell_type": "code",
   "execution_count": 17,
   "metadata": {},
   "outputs": [
    {
     "data": {
      "text/plain": [
       "(1194.9581230142749, 7.603990602257219e-262, 1, array([[ 764.,  764.],\n",
       "        [1170., 1170.]]))"
      ]
     },
     "execution_count": 17,
     "metadata": {},
     "output_type": "execute_result"
    }
   ],
   "source": [
    "st.chi2_contingency(a.iloc[[0,3]].values)"
   ]
  },
  {
   "cell_type": "markdown",
   "metadata": {},
   "source": [
    "#### 추가 분석\n",
    "* 경기 결과를 승/무/패가 아닌 승리 여부로 변경\n",
    "* X^2 626.38, P_value 0.01미만, 자유로 1로 동일하게 귀무가설 기각"
   ]
  },
  {
   "cell_type": "markdown",
   "metadata": {},
   "source": [
    "## 참고 자료"
   ]
  },
  {
   "cell_type": "markdown",
   "metadata": {},
   "source": [
    "#### 카이제곱검정 중 적합성 테스트(Goodness-Of-Fit Test)\n",
    "* 관측 값들이 어떤 이론이나 이론적 분포를 따르고 있는지를 검정하는 것\n",
    "* 참고: https://youtu.be/MIaEyLcRvKw, http://hamelg.blogspot.kr/2015/11/python-for-data-analysis-part-25-chi.html"
   ]
  },
  {
   "cell_type": "code",
   "execution_count": 18,
   "metadata": {},
   "outputs": [
    {
     "data": {
      "text/plain": [
       "([406.0, 406.0], [764.0, 764.0, 406.0, 406.0, 764.0, 764.0])"
      ]
     },
     "execution_count": 18,
     "metadata": {},
     "output_type": "execute_result"
    }
   ],
   "source": [
    "import scipy.stats as st\n",
    "\n",
    "observed = np.reshape(joint_prob_pd[:3][['opening_flag', 'non_opening_flag']].values, -1).tolist()\n",
    "expected = np.reshape(expected_prob_pd[:3][['opening', 'non_opening']].values, -1).tolist()\n",
    "\n",
    "observed[2:4], expected"
   ]
  },
  {
   "cell_type": "code",
   "execution_count": 19,
   "metadata": {},
   "outputs": [
    {
     "data": {
      "text/plain": [
       "Power_divergenceResult(statistic=1448.565445026178, pvalue=4.1222600200887e-311)"
      ]
     },
     "execution_count": 19,
     "metadata": {},
     "output_type": "execute_result"
    }
   ],
   "source": [
    "st.chisquare(f_obs= observed,   # Array of observed counts\n",
    "                f_exp= expected)\n"
   ]
  },
  {
   "cell_type": "markdown",
   "metadata": {},
   "source": [
    "##### 적합성 테스트 결과\n",
    "* P_value가 0.05보다 작으므로 귀무가설을 기각\n",
    "* **선취골 득점 여부에 따라 경기결과에 차이가 존재한다**"
   ]
  },
  {
   "cell_type": "markdown",
   "metadata": {},
   "source": [
    "##### 경기결과를 각각 승리여부, 무승부여부, 패배여부로 카이제곱 검정한 결과"
   ]
  },
  {
   "cell_type": "code",
   "execution_count": 20,
   "metadata": {},
   "outputs": [
    {
     "data": {
      "text/plain": [
       "(1194.9581230142749, 7.603990602257219e-262, 1, array([[ 764.,  764.],\n",
       "        [1170., 1170.]]))"
      ]
     },
     "execution_count": 20,
     "metadata": {},
     "output_type": "execute_result"
    }
   ],
   "source": [
    "a = pd.DataFrame(joint_prob_pd[['opening_flag', 'non_opening_flag']], index=['win', 'draw', 'lose', 'non_win'])\n",
    "a['opening_flag'][3:] = sum(a['opening_flag'][1:3])\n",
    "a['non_opening_flag'][3:] = sum(a['non_opening_flag'][1:3])\n",
    "a.iloc[[0,3]]\n",
    "st.chi2_contingency(a.iloc[[0,3]].values)"
   ]
  },
  {
   "cell_type": "code",
   "execution_count": 21,
   "metadata": {},
   "outputs": [
    {
     "data": {
      "text/plain": [
       "(0.0, 1.0, 1, array([[ 406.,  406.],\n",
       "        [1528., 1528.]]))"
      ]
     },
     "execution_count": 21,
     "metadata": {},
     "output_type": "execute_result"
    }
   ],
   "source": [
    "a = pd.DataFrame(joint_prob_pd[['opening_flag', 'non_opening_flag']], index=['win', 'draw', 'lose', 'non_draw'])\n",
    "a['opening_flag'][3:] = sum(a['opening_flag'][::2])\n",
    "a['non_opening_flag'][3:] = sum(a['opening_flag'][::2])\n",
    "a.iloc[[1,3]]\n",
    "st.chi2_contingency(a.iloc[[1,3]].values)"
   ]
  },
  {
   "cell_type": "code",
   "execution_count": 22,
   "metadata": {},
   "outputs": [
    {
     "data": {
      "text/plain": [
       "(1194.9581230142749, 7.603990602257219e-262, 1, array([[ 764.,  764.],\n",
       "        [1170., 1170.]]))"
      ]
     },
     "execution_count": 22,
     "metadata": {},
     "output_type": "execute_result"
    }
   ],
   "source": [
    "a = pd.DataFrame(joint_prob_pd[['opening_flag', 'non_opening_flag']], index=['win', 'draw', 'lose', 'non_lose'])\n",
    "a['opening_flag'][3:] = sum(a['opening_flag'][0:2])\n",
    "a['non_opening_flag'][3:] = sum(a['non_opening_flag'][0:2])\n",
    "a.iloc[[2,3]]\n",
    "st.chi2_contingency(a.iloc[[2,3]].values)"
   ]
  },
  {
   "cell_type": "markdown",
   "metadata": {},
   "source": [
    "##### 로지스틱 회귀분석 \n",
    "* 단순 테스트 목적, 추후 다른 변수들과 함께 돌렸을 때에나 의미있는 결과가 나올 것으로 예상됨\n",
    "* 근데 단일 변수로도 생각보다 F-measure가 높게 나오는걸 보면 선제골이 승리에 주는 영향은 확실한 것으로 판단됨\n",
    "* 참고: http://nbviewer.jupyter.org/gist/justmarkham/6d5c061ca5aee67c4316471f8c2ae976"
   ]
  },
  {
   "cell_type": "code",
   "execution_count": 23,
   "metadata": {},
   "outputs": [
    {
     "data": {
      "text/html": [
       "<div>\n",
       "<style scoped>\n",
       "    .dataframe tbody tr th:only-of-type {\n",
       "        vertical-align: middle;\n",
       "    }\n",
       "\n",
       "    .dataframe tbody tr th {\n",
       "        vertical-align: top;\n",
       "    }\n",
       "\n",
       "    .dataframe thead th {\n",
       "        text-align: right;\n",
       "    }\n",
       "</style>\n",
       "<table border=\"1\" class=\"dataframe\">\n",
       "  <thead>\n",
       "    <tr style=\"text-align: right;\">\n",
       "      <th></th>\n",
       "      <th>year</th>\n",
       "      <th>location</th>\n",
       "      <th>opening_goal</th>\n",
       "      <th>remain_time</th>\n",
       "      <th>victory</th>\n",
       "    </tr>\n",
       "  </thead>\n",
       "  <tbody>\n",
       "    <tr>\n",
       "      <th>0</th>\n",
       "      <td>2013.0</td>\n",
       "      <td>1</td>\n",
       "      <td>1</td>\n",
       "      <td>0.677778</td>\n",
       "      <td>0</td>\n",
       "    </tr>\n",
       "    <tr>\n",
       "      <th>1</th>\n",
       "      <td>2013.0</td>\n",
       "      <td>1</td>\n",
       "      <td>0</td>\n",
       "      <td>0.955556</td>\n",
       "      <td>1</td>\n",
       "    </tr>\n",
       "    <tr>\n",
       "      <th>2</th>\n",
       "      <td>2013.0</td>\n",
       "      <td>1</td>\n",
       "      <td>0</td>\n",
       "      <td>0.688889</td>\n",
       "      <td>0</td>\n",
       "    </tr>\n",
       "    <tr>\n",
       "      <th>3</th>\n",
       "      <td>2013.0</td>\n",
       "      <td>1</td>\n",
       "      <td>0</td>\n",
       "      <td>0.900000</td>\n",
       "      <td>0</td>\n",
       "    </tr>\n",
       "    <tr>\n",
       "      <th>4</th>\n",
       "      <td>2013.0</td>\n",
       "      <td>1</td>\n",
       "      <td>1</td>\n",
       "      <td>0.977778</td>\n",
       "      <td>0</td>\n",
       "    </tr>\n",
       "  </tbody>\n",
       "</table>\n",
       "</div>"
      ],
      "text/plain": [
       "     year  location  opening_goal  remain_time  victory\n",
       "0  2013.0         1             1     0.677778        0\n",
       "1  2013.0         1             0     0.955556        1\n",
       "2  2013.0         1             0     0.688889        0\n",
       "3  2013.0         1             0     0.900000        0\n",
       "4  2013.0         1             1     0.977778        0"
      ]
     },
     "execution_count": 23,
     "metadata": {},
     "output_type": "execute_result"
    }
   ],
   "source": [
    "# Data Sampling (Train Set: 2013~2016, Test Set: 2017)\n",
    "# Variables: 홈/어웨이, 선제골여부, 잔여시간 비중, 승리여부(승 vs. 무/패)\n",
    "logit_data = home_opening_pd.append(away_opening_pd, ignore_index=True)[['game_id', 'score_team_id', 'home_team_id', 'opening_team_flag', 'remain_time', 'winning_team_flag']]\n",
    "logit_data.winning_team_flag = np.where(logit_data.winning_team_flag == 1, 1, 0)\n",
    "logit_data.game_id = logit_data.game_id.str.split('-').str.get(0)\n",
    "logit_data.game_id = logit_data.apply(pd.to_numeric)\n",
    "logit_data.score_team_id = np.where(logit_data.score_team_id == logit_data.home_team_id, np.where(logit_data.opening_team_flag == 1, 1, 0), np.where(logit_data.opening_team_flag == 0, 1, 0))\n",
    "logit_data = logit_data.drop(['home_team_id'], axis=1)\n",
    "logit_data.columns = ['year', 'location', 'opening_goal', 'remain_time', 'victory']\n",
    "\n",
    "train_set = logit_data[logit_data.year < 2017]\n",
    "test_set = logit_data[logit_data.year == 2017]\n",
    "\n",
    "logit_data.head()"
   ]
  },
  {
   "cell_type": "code",
   "execution_count": 24,
   "metadata": {},
   "outputs": [
    {
     "data": {
      "text/plain": [
       "[('Intercept', array([-0.94174735])), ('opening_goal', array([2.56348138]))]"
      ]
     },
     "execution_count": 24,
     "metadata": {},
     "output_type": "execute_result"
    }
   ],
   "source": [
    "# location과 remain_time의 영향도가 미비하여 변수에서 제외\n",
    "\n",
    "from patsy import dmatrices\n",
    "\n",
    "y_train, x_train = dmatrices('victory ~ opening_goal', train_set, return_type='dataframe')\n",
    "y_test, x_test = dmatrices('victory ~ opening_goal', test_set, return_type='dataframe')\n",
    "y_train = np.ravel(y_train)\n",
    "y_test = np.ravel(y_test)\n",
    "\n",
    "from sklearn.linear_model import LogisticRegression\n",
    "model = LogisticRegression()\n",
    "model = model.fit(x_train, y_train)\n",
    "\n",
    "# 로지스틱 회귀식의 절편과 alpha 값\n",
    "list(zip(x_train.columns, np.transpose(model.coef_)))"
   ]
  },
  {
   "cell_type": "code",
   "execution_count": 25,
   "metadata": {},
   "outputs": [
    {
     "data": {
      "text/plain": [
       "0.7678227360308285"
      ]
     },
     "execution_count": 25,
     "metadata": {},
     "output_type": "execute_result"
    }
   ],
   "source": [
    "# Training Set 에서의 정확도\n",
    "model.score(x_train, y_train)"
   ]
  },
  {
   "cell_type": "code",
   "execution_count": 26,
   "metadata": {},
   "outputs": [
    {
     "data": {
      "text/plain": [
       "LogisticRegression(C=1.0, class_weight=None, dual=False, fit_intercept=True,\n",
       "          intercept_scaling=1, max_iter=100, multi_class='ovr', n_jobs=1,\n",
       "          penalty='l2', random_state=None, solver='liblinear', tol=0.0001,\n",
       "          verbose=0, warm_start=False)"
      ]
     },
     "execution_count": 26,
     "metadata": {},
     "output_type": "execute_result"
    }
   ],
   "source": [
    "model.sparsify()"
   ]
  },
  {
   "cell_type": "code",
   "execution_count": 27,
   "metadata": {},
   "outputs": [
    {
     "data": {
      "text/plain": [
       "(0.7891246684350133, 0.8053879310344828)"
      ]
     },
     "execution_count": 27,
     "metadata": {},
     "output_type": "execute_result"
    }
   ],
   "source": [
    "# Test Set을 이용하여 예측 수행\n",
    "\n",
    "from sklearn import metrics\n",
    "\n",
    "predicted = model.predict(x_test)\n",
    "predicted_probs = model.predict_proba(x_test)[:, 1]\n",
    "\n",
    "# Test Set 에서의 정확도\n",
    "metrics.accuracy_score(y_test, predicted), metrics.roc_auc_score(y_test, predicted_probs)"
   ]
  },
  {
   "cell_type": "code",
   "execution_count": 28,
   "metadata": {},
   "outputs": [
    {
     "data": {
      "text/html": [
       "<div>\n",
       "<style scoped>\n",
       "    .dataframe tbody tr th:only-of-type {\n",
       "        vertical-align: middle;\n",
       "    }\n",
       "\n",
       "    .dataframe tbody tr th {\n",
       "        vertical-align: top;\n",
       "    }\n",
       "\n",
       "    .dataframe thead th {\n",
       "        text-align: right;\n",
       "    }\n",
       "</style>\n",
       "<table border=\"1\" class=\"dataframe\">\n",
       "  <thead>\n",
       "    <tr style=\"text-align: right;\">\n",
       "      <th></th>\n",
       "      <th>Real Negative</th>\n",
       "      <th>Real Positive</th>\n",
       "    </tr>\n",
       "  </thead>\n",
       "  <tbody>\n",
       "    <tr>\n",
       "      <th>Predicted Positive</th>\n",
       "      <td>123</td>\n",
       "      <td>341</td>\n",
       "    </tr>\n",
       "    <tr>\n",
       "      <th>Predicted Negative</th>\n",
       "      <td>341</td>\n",
       "      <td>36</td>\n",
       "    </tr>\n",
       "  </tbody>\n",
       "</table>\n",
       "</div>"
      ],
      "text/plain": [
       "                    Real Negative  Real Positive\n",
       "Predicted Positive            123            341\n",
       "Predicted Negative            341             36"
      ]
     },
     "execution_count": 28,
     "metadata": {},
     "output_type": "execute_result"
    }
   ],
   "source": [
    "confusion_mt = metrics.confusion_matrix(y_test, predicted)\n",
    "tn, fp, fn, tp = confusion_mt.ravel()\n",
    "tn, fp, fn, tp, confusion_mt\n",
    "pd.DataFrame([{'Real Positive': tn, 'Real Negative': fp}, {'Real Positive': fn, 'Real Negative': tn}], index=['Predicted Positive', 'Predicted Negative'])"
   ]
  },
  {
   "cell_type": "code",
   "execution_count": 29,
   "metadata": {},
   "outputs": [
    {
     "name": "stdout",
     "output_type": "stream",
     "text": [
      "             precision    recall  f1-score   support\n",
      "\n",
      "        0.0       0.90      0.73      0.81       464\n",
      "        1.0       0.67      0.88      0.76       290\n",
      "\n",
      "avg / total       0.82      0.79      0.79       754\n",
      "\n"
     ]
    }
   ],
   "source": [
    "# F-measure 수행\n",
    "print(metrics.classification_report(y_test, predicted))"
   ]
  },
  {
   "cell_type": "markdown",
   "metadata": {},
   "source": [
    "##### F-Measure\n",
    "\n",
    "|        |          |               실제값                |                                  |\n",
    "| :----: | :------: | :---------------------------------: | :--------------------------------: |\n",
    "|        |          |              Positive               |              Negative              |\n",
    "| 예측값 | Positive |            True Positive            | False Positive<br />(Type I error) |\n",
    "|        | Negative | False Negative<br />(Type II Error) |           True Negative            |\n",
    "\n",
    "\n",
    "* Precision(정밀도) : Positive로 예측한 결과 중 제대로 적중한 비율 (예측의 적중률을 강조)\n",
    "$$Precision = \\frac{tp}{tp + fp} $$ \n",
    "\n",
    "\n",
    "* Recall(재현율): 실제 Positive 중 제대로 적중한 비율 (못 찾아낸 부분이 강조)\n",
    "$$Recall = \\frac{tp}{tp + fn} $$\n",
    "\n",
    "\n",
    "* F1-score(F점수): Precision과 Recall을 이용하여 해당 모델의 정확도를 산출하는 조화평균\n",
    "$$F1-score = 2 * \\frac{precision*recall}{precision+recall}$$\n"
   ]
  },
  {
   "cell_type": "markdown",
   "metadata": {},
   "source": [
    "* 선제골을 넣으면 승리할 가능성은 높을 것으로 결론이 난것 같은데...\n",
    "\n",
    "* 홈 경기에서 선제골을 넣었을 때 승리할 확률은? 69.2%\n",
    "* 원정경기에서 선제골을 넣었을때 승리할 확률은? 63.8%\n"
   ]
  },
  {
   "cell_type": "code",
   "execution_count": null,
   "metadata": {},
   "outputs": [],
   "source": []
  }
 ],
 "metadata": {
  "kernelspec": {
   "display_name": "Python 3",
   "language": "python",
   "name": "python3"
  },
  "language_info": {
   "codemirror_mode": {
    "name": "ipython",
    "version": 3
   },
   "file_extension": ".py",
   "mimetype": "text/x-python",
   "name": "python",
   "nbconvert_exporter": "python",
   "pygments_lexer": "ipython3",
   "version": "3.6.4"
  }
 },
 "nbformat": 4,
 "nbformat_minor": 2
}
