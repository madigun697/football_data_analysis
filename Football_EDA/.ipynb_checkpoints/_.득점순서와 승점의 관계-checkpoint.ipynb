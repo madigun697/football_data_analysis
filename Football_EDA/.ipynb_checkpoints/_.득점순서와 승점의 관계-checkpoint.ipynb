{
 "cells": [
  {
   "cell_type": "markdown",
   "metadata": {},
   "source": [
    "## 득점순서와 승점의 관계\n",
    "|    |   |\n",
    "|----|---|\n",
    "| 승 | 3 |\n",
    "| 무 | 1 |\n",
    "| 패 | 0 |\n",
    "\n",
    "득점은 4종류\n",
    "1. 동점에서 리드하는 상황으로 가는 득점(3점)\n",
    "2. 리드 중에 추가 득점(0점)\n",
    "3. 지고있는데 추격하는 득점(??) = (1/추격해야하는 득점)*1 혹은 (1/추격해야하는 득점=역전해야하는 득점+1)*3\n",
    "4. 동점골(1점)\n",
    "\n",
    "| A:B |   A   |   B   |\n",
    "|-----|---|---|\n",
    "| 1:0 | 3점 득점 1 | - |\n",
    "| 1:0, 2:0, 3:0, 4:0, 5:0 | 3, 0, 0, 0, 0 | - |\n",
    "| 1:0, 1:1 | 3 | 1 |\n",
    "| 1:0, 2:0, 2:1 | 3, **의미없는 득점 1? 3/2짜리 1** | **비기기 위한 득점 시도의 일부 이니 1/2짜리 득점?** |\n",
    "| 0:1, 1:1, 2:1 | 1, 3 | 3 |\n",
    "| 1:0, 2:0, 3:0, 3:1, 3:2 | 3, 3/(3-1), 3/(3-2)**하지만 이렇게되면 밑에 케이스와 다를게 없음) | 1/3, 1/2 |\n",
    "| 1:0, 2:0, 2:1, 3:1, 3:2 | 3, , | 1/2,  |\n",
    "| 1:0, 2:0, 2:1, 2:2 | 3, | 1/2, 1 |\n"
   ]
  },
  {
   "cell_type": "markdown",
   "metadata": {},
   "source": [
    "#### 득점 패턴 보기"
   ]
  },
  {
   "cell_type": "code",
   "execution_count": 2,
   "metadata": {},
   "outputs": [],
   "source": [
    "#데이터 추출\n",
    "import  pymysql\n",
    "conn = pymysql.connect(host='madigun.asuscomm.com', user='madigun', password='ehenr1163', db='football', charset='utf8')"
   ]
  },
  {
   "cell_type": "code",
   "execution_count": null,
   "metadata": {},
   "outputs": [],
   "source": [
    "import numpy as mp\n",
    "import pandas as pd"
   ]
  },
  {
   "cell_type": "markdown",
   "metadata": {},
   "source": [
    "Comments\n",
    "\n",
    "> 1 리드골은 0대0 상황에서는 선제골, 1대1 등 득점 비긴 상황에서는 리드골\n",
    "\n",
    "> 2 추가골\n",
    "\n",
    "> 3 추격골\n",
    "\n",
    "> 4 동점골\n",
    "\n",
    "* 1을 2가지로 구분하면 득점은 5가지 형태로 구분이 가능함 (또다른 조합이 있을 수 있는지 고민해보셈)\n",
    "\n",
    "* 이러한 분류 방법과 득점의 순서 - 예를 들면 첫번째골은 어디에 해당하는 경우가 많았는지 (지난 5년간)\n",
    "\n",
    "\n"
   ]
  },
  {
   "cell_type": "markdown",
   "metadata": {},
   "source": [
    "|       | 0      | 1     | 2     | 3     | 4    | 5    | 6    | 7    | 8    | 9    |\n",
    "| ----- | ------ | ----- | ----- | ----- | ---- | ---- | ---- | ---- | ---- | ---- |\n",
    "| CG(A) | 0.0    | 0.0   | 124.0 | 32.0  | 44.0 | 11.0 | 11.0 | 1.0  | 1.0  | 0.0  |\n",
    "| CG(H) | 0.0    | 0.0   | 118.0 | 21.0  | 37.0 | 8.0  | 4.0  | 0.0  | 0.0  | 0.0  |\n",
    "| FG(A) | 901.0  | 0.0   | 0.0   | 0.0   | 0.0  | 0.0  | 0.0  | 0.0  | 0.0  | 0.0  |\n",
    "| FG(H) | 1033.0 | 0.0   | 0.0   | 0.0   | 0.0  | 0.0  | 0.0  | 0.0  | 0.0  | 0.0  |\n",
    "| LG(A) | 0.0    | 284.0 | 351.0 | 106.0 | 90.0 | 27.0 | 13.0 | 1.0  | 1.0  | 0.0  |\n",
    "| LG(H) | 0.0    | 392.0 | 440.0 | 153.0 | 97.0 | 25.0 | 13.0 | 7.0  | 1.0  | 0.0  |\n",
    "| TG(A) | 0.0    | 414.0 | 0.0   | 130.0 | 0.0  | 21.0 | 0.0  | 2.0  | 0.0  | 0.0  |\n",
    "| TG(H) | 0.0    | 411.0 | 0.0   | 119.0 | 0.0  | 14.0 | 0.0  | 2.0  | 0.0  | 0.0  |"
   ]
  },
  {
   "cell_type": "code",
   "execution_count": null,
   "metadata": {},
   "outputs": [],
   "source": []
  }
 ],
 "metadata": {
  "kernelspec": {
   "display_name": "Python 3",
   "language": "python",
   "name": "python3"
  },
  "language_info": {
   "codemirror_mode": {
    "name": "ipython",
    "version": 3
   },
   "file_extension": ".py",
   "mimetype": "text/x-python",
   "name": "python",
   "nbconvert_exporter": "python",
   "pygments_lexer": "ipython3",
   "version": "3.5.4"
  }
 },
 "nbformat": 4,
 "nbformat_minor": 2
}
