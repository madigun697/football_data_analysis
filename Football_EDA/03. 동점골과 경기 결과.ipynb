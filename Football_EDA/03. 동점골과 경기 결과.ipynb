{
 "cells": [
  {
   "cell_type": "markdown",
   "metadata": {},
   "source": [
    "# 동점골과 경기 결과간의 상관관계\n",
    "\n",
    "## 기본 컨셉\n",
    "* 동점골 여부 혹은 횟수가 경기 결과에 영향을 줄 것이다\n",
    "\n",
    "## 사용 데이터\n",
    "* 2013~2017년 득점 기록 중 지고있던 상황에서 동점골을 득점한 기록을 추출\n",
    "* 경기의 주체는 Home 팀으로 가정\n",
    "\n",
    "## 데이터 추출"
   ]
  },
  {
   "cell_type": "code",
   "execution_count": 1,
   "metadata": {},
   "outputs": [],
   "source": [
    "import db_conn\n",
    "import pandas as pd\n",
    "import numpy as np\n",
    "import copy\n",
    "import statsmodels.formula.api as sm\n",
    "import scipy.stats as st"
   ]
  },
  {
   "cell_type": "markdown",
   "metadata": {},
   "source": [
    "##### Game Records"
   ]
  },
  {
   "cell_type": "code",
   "execution_count": 2,
   "metadata": {},
   "outputs": [],
   "source": [
    "sql = \"\"\"SELECT * FROM game_records\"\"\""
   ]
  },
  {
   "cell_type": "code",
   "execution_count": 3,
   "metadata": {},
   "outputs": [],
   "source": [
    "# SQL 실행\n",
    "game_records = db_conn.select_query(sql)"
   ]
  },
  {
   "cell_type": "code",
   "execution_count": 4,
   "metadata": {},
   "outputs": [
    {
     "data": {
      "text/html": [
       "<div>\n",
       "<style scoped>\n",
       "    .dataframe tbody tr th:only-of-type {\n",
       "        vertical-align: middle;\n",
       "    }\n",
       "\n",
       "    .dataframe tbody tr th {\n",
       "        vertical-align: top;\n",
       "    }\n",
       "\n",
       "    .dataframe thead th {\n",
       "        text-align: right;\n",
       "    }\n",
       "</style>\n",
       "<table border=\"1\" class=\"dataframe\">\n",
       "  <thead>\n",
       "    <tr style=\"text-align: right;\">\n",
       "      <th></th>\n",
       "      <th>winning_team</th>\n",
       "      <th>home_team_id</th>\n",
       "      <th>away_team_id</th>\n",
       "    </tr>\n",
       "    <tr>\n",
       "      <th>game_id</th>\n",
       "      <th></th>\n",
       "      <th></th>\n",
       "      <th></th>\n",
       "    </tr>\n",
       "  </thead>\n",
       "  <tbody>\n",
       "    <tr>\n",
       "      <th>2013-1-001</th>\n",
       "      <td>0</td>\n",
       "      <td>10</td>\n",
       "      <td>25</td>\n",
       "    </tr>\n",
       "    <tr>\n",
       "      <th>2013-1-002</th>\n",
       "      <td>19</td>\n",
       "      <td>19</td>\n",
       "      <td>5</td>\n",
       "    </tr>\n",
       "    <tr>\n",
       "      <th>2013-1-003</th>\n",
       "      <td>23</td>\n",
       "      <td>21</td>\n",
       "      <td>23</td>\n",
       "    </tr>\n",
       "    <tr>\n",
       "      <th>2013-1-004</th>\n",
       "      <td>13</td>\n",
       "      <td>12</td>\n",
       "      <td>13</td>\n",
       "    </tr>\n",
       "    <tr>\n",
       "      <th>2013-1-005</th>\n",
       "      <td>0</td>\n",
       "      <td>20</td>\n",
       "      <td>2</td>\n",
       "    </tr>\n",
       "  </tbody>\n",
       "</table>\n",
       "</div>"
      ],
      "text/plain": [
       "            winning_team  home_team_id  away_team_id\n",
       "game_id                                             \n",
       "2013-1-001             0            10            25\n",
       "2013-1-002            19            19             5\n",
       "2013-1-003            23            21            23\n",
       "2013-1-004            13            12            13\n",
       "2013-1-005             0            20             2"
      ]
     },
     "execution_count": 4,
     "metadata": {},
     "output_type": "execute_result"
    }
   ],
   "source": [
    "columns = ['game_id', 'winning_team', 'home_team_id', 'away_team_id']\n",
    "\n",
    "data_source = [[item[key] for key in columns] for item in game_records]\n",
    "game_records_pd = pd.DataFrame(data_source, columns=columns)\n",
    "game_records_pd.index = game_records_pd.game_id\n",
    "game_records_pd = game_records_pd.drop('game_id', axis=1)\n",
    "get_game_info = lambda x: game_records_pd.loc[x]\n",
    "\n",
    "game_records_pd.head()"
   ]
  },
  {
   "cell_type": "markdown",
   "metadata": {},
   "source": [
    "##### Goal Records"
   ]
  },
  {
   "cell_type": "code",
   "execution_count": 5,
   "metadata": {},
   "outputs": [],
   "source": [
    "sql = \"\"\"SELECT id, score_player, match_id, score_team_id, play_time FROM goal_records_rev\"\"\""
   ]
  },
  {
   "cell_type": "code",
   "execution_count": 6,
   "metadata": {},
   "outputs": [],
   "source": [
    "# SQL 실행\n",
    "goal_records = db_conn.select_query(sql)"
   ]
  },
  {
   "cell_type": "code",
   "execution_count": 7,
   "metadata": {},
   "outputs": [
    {
     "data": {
      "text/html": [
       "<div>\n",
       "<style scoped>\n",
       "    .dataframe tbody tr th:only-of-type {\n",
       "        vertical-align: middle;\n",
       "    }\n",
       "\n",
       "    .dataframe tbody tr th {\n",
       "        vertical-align: top;\n",
       "    }\n",
       "\n",
       "    .dataframe thead th {\n",
       "        text-align: right;\n",
       "    }\n",
       "</style>\n",
       "<table border=\"1\" class=\"dataframe\">\n",
       "  <thead>\n",
       "    <tr style=\"text-align: right;\">\n",
       "      <th></th>\n",
       "      <th>id</th>\n",
       "      <th>location</th>\n",
       "      <th>score_player</th>\n",
       "      <th>match_id</th>\n",
       "      <th>home_team_id</th>\n",
       "      <th>score_team_id</th>\n",
       "      <th>play_time</th>\n",
       "      <th>score_point</th>\n",
       "      <th>diff_score</th>\n",
       "      <th>previous_status</th>\n",
       "      <th>tying_goal_flag</th>\n",
       "    </tr>\n",
       "  </thead>\n",
       "  <tbody>\n",
       "    <tr>\n",
       "      <th>0</th>\n",
       "      <td>2</td>\n",
       "      <td>NaN</td>\n",
       "      <td>1</td>\n",
       "      <td>2013-1-001</td>\n",
       "      <td>NaN</td>\n",
       "      <td>10</td>\n",
       "      <td>29</td>\n",
       "      <td>NaN</td>\n",
       "      <td>NaN</td>\n",
       "      <td>NaN</td>\n",
       "      <td>NaN</td>\n",
       "    </tr>\n",
       "    <tr>\n",
       "      <th>1</th>\n",
       "      <td>3</td>\n",
       "      <td>NaN</td>\n",
       "      <td>2</td>\n",
       "      <td>2013-1-001</td>\n",
       "      <td>NaN</td>\n",
       "      <td>25</td>\n",
       "      <td>32</td>\n",
       "      <td>NaN</td>\n",
       "      <td>NaN</td>\n",
       "      <td>NaN</td>\n",
       "      <td>NaN</td>\n",
       "    </tr>\n",
       "    <tr>\n",
       "      <th>2</th>\n",
       "      <td>4</td>\n",
       "      <td>NaN</td>\n",
       "      <td>3</td>\n",
       "      <td>2013-1-001</td>\n",
       "      <td>NaN</td>\n",
       "      <td>10</td>\n",
       "      <td>2</td>\n",
       "      <td>NaN</td>\n",
       "      <td>NaN</td>\n",
       "      <td>NaN</td>\n",
       "      <td>NaN</td>\n",
       "    </tr>\n",
       "    <tr>\n",
       "      <th>3</th>\n",
       "      <td>5</td>\n",
       "      <td>NaN</td>\n",
       "      <td>4</td>\n",
       "      <td>2013-1-001</td>\n",
       "      <td>NaN</td>\n",
       "      <td>25</td>\n",
       "      <td>38</td>\n",
       "      <td>NaN</td>\n",
       "      <td>NaN</td>\n",
       "      <td>NaN</td>\n",
       "      <td>NaN</td>\n",
       "    </tr>\n",
       "    <tr>\n",
       "      <th>4</th>\n",
       "      <td>6</td>\n",
       "      <td>NaN</td>\n",
       "      <td>5</td>\n",
       "      <td>2013-1-002</td>\n",
       "      <td>NaN</td>\n",
       "      <td>5</td>\n",
       "      <td>4</td>\n",
       "      <td>NaN</td>\n",
       "      <td>NaN</td>\n",
       "      <td>NaN</td>\n",
       "      <td>NaN</td>\n",
       "    </tr>\n",
       "  </tbody>\n",
       "</table>\n",
       "</div>"
      ],
      "text/plain": [
       "   id  location score_player    match_id  home_team_id  score_team_id  \\\n",
       "0   2       NaN            1  2013-1-001           NaN             10   \n",
       "1   3       NaN            2  2013-1-001           NaN             25   \n",
       "2   4       NaN            3  2013-1-001           NaN             10   \n",
       "3   5       NaN            4  2013-1-001           NaN             25   \n",
       "4   6       NaN            5  2013-1-002           NaN              5   \n",
       "\n",
       "   play_time  score_point  diff_score  previous_status  tying_goal_flag  \n",
       "0         29          NaN         NaN              NaN              NaN  \n",
       "1         32          NaN         NaN              NaN              NaN  \n",
       "2          2          NaN         NaN              NaN              NaN  \n",
       "3         38          NaN         NaN              NaN              NaN  \n",
       "4          4          NaN         NaN              NaN              NaN  "
      ]
     },
     "execution_count": 7,
     "metadata": {},
     "output_type": "execute_result"
    }
   ],
   "source": [
    "columns = ['id', 'score_player', 'match_id', 'score_team_id', 'play_time']\n",
    "\n",
    "data_source = [[item[key] for key in columns] for item in goal_records]\n",
    "goal_records_pd = pd.DataFrame(data_source, columns=columns)\n",
    "goal_records_pd = pd.DataFrame(goal_records_pd, columns=['id', 'location', 'score_player', 'match_id', 'home_team_id', 'score_team_id', 'play_time', 'score_point', 'diff_score', 'previous_status', 'tying_goal_flag'])\n",
    "\n",
    "goal_records_pd.head()"
   ]
  },
  {
   "cell_type": "markdown",
   "metadata": {},
   "source": [
    "## 데이터 전처리\n",
    "\n",
    "### 동점골이란?\n",
    "* 1점차이로 추격하는 상황에서의 득점\n",
    "* 그 이상의 점수차이에서 발생하는 추격골은 제외\n",
    "* 각 경기의 득점 중 득점 전 상황이 -1인 상태(1점 뒤쳐진 상태)에서 득점한 경우 동점골로 판단"
   ]
  },
  {
   "cell_type": "code",
   "execution_count": 8,
   "metadata": {},
   "outputs": [
    {
     "data": {
      "text/html": [
       "<div>\n",
       "<style scoped>\n",
       "    .dataframe tbody tr th:only-of-type {\n",
       "        vertical-align: middle;\n",
       "    }\n",
       "\n",
       "    .dataframe tbody tr th {\n",
       "        vertical-align: top;\n",
       "    }\n",
       "\n",
       "    .dataframe thead th {\n",
       "        text-align: right;\n",
       "    }\n",
       "</style>\n",
       "<table border=\"1\" class=\"dataframe\">\n",
       "  <thead>\n",
       "    <tr style=\"text-align: right;\">\n",
       "      <th></th>\n",
       "      <th>id</th>\n",
       "      <th>location</th>\n",
       "      <th>score_player</th>\n",
       "      <th>match_id</th>\n",
       "      <th>home_team_id</th>\n",
       "      <th>score_team_id</th>\n",
       "      <th>play_time</th>\n",
       "      <th>score_point</th>\n",
       "      <th>diff_score</th>\n",
       "      <th>previous_status</th>\n",
       "      <th>tying_goal_flag</th>\n",
       "    </tr>\n",
       "  </thead>\n",
       "  <tbody>\n",
       "    <tr>\n",
       "      <th>0</th>\n",
       "      <td>2</td>\n",
       "      <td>1</td>\n",
       "      <td>1</td>\n",
       "      <td>2013-1-001</td>\n",
       "      <td>10</td>\n",
       "      <td>10</td>\n",
       "      <td>29</td>\n",
       "      <td>1</td>\n",
       "      <td>1</td>\n",
       "      <td>0.0</td>\n",
       "      <td>False</td>\n",
       "    </tr>\n",
       "    <tr>\n",
       "      <th>1</th>\n",
       "      <td>3</td>\n",
       "      <td>1</td>\n",
       "      <td>2</td>\n",
       "      <td>2013-1-001</td>\n",
       "      <td>10</td>\n",
       "      <td>25</td>\n",
       "      <td>32</td>\n",
       "      <td>-1</td>\n",
       "      <td>0</td>\n",
       "      <td>1.0</td>\n",
       "      <td>False</td>\n",
       "    </tr>\n",
       "    <tr>\n",
       "      <th>2</th>\n",
       "      <td>4</td>\n",
       "      <td>1</td>\n",
       "      <td>3</td>\n",
       "      <td>2013-1-001</td>\n",
       "      <td>10</td>\n",
       "      <td>10</td>\n",
       "      <td>2</td>\n",
       "      <td>1</td>\n",
       "      <td>1</td>\n",
       "      <td>0.0</td>\n",
       "      <td>False</td>\n",
       "    </tr>\n",
       "    <tr>\n",
       "      <th>3</th>\n",
       "      <td>5</td>\n",
       "      <td>1</td>\n",
       "      <td>4</td>\n",
       "      <td>2013-1-001</td>\n",
       "      <td>10</td>\n",
       "      <td>25</td>\n",
       "      <td>38</td>\n",
       "      <td>-1</td>\n",
       "      <td>0</td>\n",
       "      <td>1.0</td>\n",
       "      <td>False</td>\n",
       "    </tr>\n",
       "    <tr>\n",
       "      <th>4</th>\n",
       "      <td>6</td>\n",
       "      <td>1</td>\n",
       "      <td>5</td>\n",
       "      <td>2013-1-002</td>\n",
       "      <td>19</td>\n",
       "      <td>5</td>\n",
       "      <td>4</td>\n",
       "      <td>-1</td>\n",
       "      <td>-1</td>\n",
       "      <td>0.0</td>\n",
       "      <td>False</td>\n",
       "    </tr>\n",
       "  </tbody>\n",
       "</table>\n",
       "</div>"
      ],
      "text/plain": [
       "   id  location score_player    match_id  home_team_id  score_team_id  \\\n",
       "0   2         1            1  2013-1-001            10             10   \n",
       "1   3         1            2  2013-1-001            10             25   \n",
       "2   4         1            3  2013-1-001            10             10   \n",
       "3   5         1            4  2013-1-001            10             25   \n",
       "4   6         1            5  2013-1-002            19              5   \n",
       "\n",
       "   play_time  score_point  diff_score  previous_status  tying_goal_flag  \n",
       "0         29            1           1              0.0            False  \n",
       "1         32           -1           0              1.0            False  \n",
       "2          2            1           1              0.0            False  \n",
       "3         38           -1           0              1.0            False  \n",
       "4          4           -1          -1              0.0            False  "
      ]
     },
     "execution_count": 8,
     "metadata": {},
     "output_type": "execute_result"
    }
   ],
   "source": [
    "home_goal_pd = copy.deepcopy(goal_records_pd)\n",
    "home_goal_pd.home_team_id = home_goal_pd.match_id.apply(get_game_info)['home_team_id']\n",
    "home_goal_pd.score_point = np.where(home_goal_pd.home_team_id == home_goal_pd.score_team_id, 1, -1)\n",
    "home_goal_pd.diff_score = home_goal_pd.groupby(['match_id'])['score_point'].cumsum()\n",
    "home_goal_pd.previous_status = home_goal_pd.groupby(['match_id'])['diff_score'].shift(1).fillna(0)\n",
    "home_goal_pd.tying_goal_flag = np.where(home_goal_pd.diff_score != 0, False, np.where(home_goal_pd.previous_status == -1, True, False))\n",
    "home_goal_pd.location = 1\n",
    "home_goal_pd.head()"
   ]
  },
  {
   "cell_type": "code",
   "execution_count": 9,
   "metadata": {},
   "outputs": [
    {
     "data": {
      "text/html": [
       "<div>\n",
       "<style scoped>\n",
       "    .dataframe tbody tr th:only-of-type {\n",
       "        vertical-align: middle;\n",
       "    }\n",
       "\n",
       "    .dataframe tbody tr th {\n",
       "        vertical-align: top;\n",
       "    }\n",
       "\n",
       "    .dataframe thead th {\n",
       "        text-align: right;\n",
       "    }\n",
       "</style>\n",
       "<table border=\"1\" class=\"dataframe\">\n",
       "  <thead>\n",
       "    <tr style=\"text-align: right;\">\n",
       "      <th></th>\n",
       "      <th>id</th>\n",
       "      <th>location</th>\n",
       "      <th>score_player</th>\n",
       "      <th>match_id</th>\n",
       "      <th>home_team_id</th>\n",
       "      <th>score_team_id</th>\n",
       "      <th>play_time</th>\n",
       "      <th>score_point</th>\n",
       "      <th>diff_score</th>\n",
       "      <th>previous_status</th>\n",
       "      <th>tying_goal_flag</th>\n",
       "    </tr>\n",
       "  </thead>\n",
       "  <tbody>\n",
       "    <tr>\n",
       "      <th>0</th>\n",
       "      <td>2</td>\n",
       "      <td>0</td>\n",
       "      <td>1</td>\n",
       "      <td>2013-1-001</td>\n",
       "      <td>25</td>\n",
       "      <td>10</td>\n",
       "      <td>29</td>\n",
       "      <td>-1</td>\n",
       "      <td>-1</td>\n",
       "      <td>0.0</td>\n",
       "      <td>False</td>\n",
       "    </tr>\n",
       "    <tr>\n",
       "      <th>1</th>\n",
       "      <td>3</td>\n",
       "      <td>0</td>\n",
       "      <td>2</td>\n",
       "      <td>2013-1-001</td>\n",
       "      <td>25</td>\n",
       "      <td>25</td>\n",
       "      <td>32</td>\n",
       "      <td>1</td>\n",
       "      <td>0</td>\n",
       "      <td>-1.0</td>\n",
       "      <td>True</td>\n",
       "    </tr>\n",
       "    <tr>\n",
       "      <th>2</th>\n",
       "      <td>4</td>\n",
       "      <td>0</td>\n",
       "      <td>3</td>\n",
       "      <td>2013-1-001</td>\n",
       "      <td>25</td>\n",
       "      <td>10</td>\n",
       "      <td>2</td>\n",
       "      <td>-1</td>\n",
       "      <td>-1</td>\n",
       "      <td>0.0</td>\n",
       "      <td>False</td>\n",
       "    </tr>\n",
       "    <tr>\n",
       "      <th>3</th>\n",
       "      <td>5</td>\n",
       "      <td>0</td>\n",
       "      <td>4</td>\n",
       "      <td>2013-1-001</td>\n",
       "      <td>25</td>\n",
       "      <td>25</td>\n",
       "      <td>38</td>\n",
       "      <td>1</td>\n",
       "      <td>0</td>\n",
       "      <td>-1.0</td>\n",
       "      <td>True</td>\n",
       "    </tr>\n",
       "    <tr>\n",
       "      <th>4</th>\n",
       "      <td>6</td>\n",
       "      <td>0</td>\n",
       "      <td>5</td>\n",
       "      <td>2013-1-002</td>\n",
       "      <td>5</td>\n",
       "      <td>5</td>\n",
       "      <td>4</td>\n",
       "      <td>1</td>\n",
       "      <td>1</td>\n",
       "      <td>0.0</td>\n",
       "      <td>False</td>\n",
       "    </tr>\n",
       "  </tbody>\n",
       "</table>\n",
       "</div>"
      ],
      "text/plain": [
       "   id  location score_player    match_id  home_team_id  score_team_id  \\\n",
       "0   2         0            1  2013-1-001            25             10   \n",
       "1   3         0            2  2013-1-001            25             25   \n",
       "2   4         0            3  2013-1-001            25             10   \n",
       "3   5         0            4  2013-1-001            25             25   \n",
       "4   6         0            5  2013-1-002             5              5   \n",
       "\n",
       "   play_time  score_point  diff_score  previous_status  tying_goal_flag  \n",
       "0         29           -1          -1              0.0            False  \n",
       "1         32            1           0             -1.0             True  \n",
       "2          2           -1          -1              0.0            False  \n",
       "3         38            1           0             -1.0             True  \n",
       "4          4            1           1              0.0            False  "
      ]
     },
     "execution_count": 9,
     "metadata": {},
     "output_type": "execute_result"
    }
   ],
   "source": [
    "away_goal_pd = copy.deepcopy(goal_records_pd)\n",
    "away_goal_pd.home_team_id = away_goal_pd.match_id.apply(get_game_info)['away_team_id']\n",
    "away_goal_pd.score_point = np.where(away_goal_pd.home_team_id == away_goal_pd.score_team_id, 1, -1)\n",
    "away_goal_pd.diff_score = away_goal_pd.groupby(['match_id'])['score_point'].cumsum()\n",
    "away_goal_pd.previous_status = away_goal_pd.groupby(['match_id'])['diff_score'].shift(1).fillna(0)\n",
    "away_goal_pd.tying_goal_flag = np.where(away_goal_pd.diff_score != 0, False, np.where(away_goal_pd.previous_status == -1, True, False))\n",
    "away_goal_pd.location = 0\n",
    "away_goal_pd.head()"
   ]
  },
  {
   "cell_type": "markdown",
   "metadata": {},
   "source": [
    "* 동점골 여부만 판단하는 tying_goal_pd와 동점골의 횟수까지 판단하는 tying_goal_count_pd로 분리"
   ]
  },
  {
   "cell_type": "code",
   "execution_count": 10,
   "metadata": {},
   "outputs": [
    {
     "data": {
      "text/html": [
       "<div>\n",
       "<style scoped>\n",
       "    .dataframe tbody tr th:only-of-type {\n",
       "        vertical-align: middle;\n",
       "    }\n",
       "\n",
       "    .dataframe tbody tr th {\n",
       "        vertical-align: top;\n",
       "    }\n",
       "\n",
       "    .dataframe thead th {\n",
       "        text-align: right;\n",
       "    }\n",
       "</style>\n",
       "<table border=\"1\" class=\"dataframe\">\n",
       "  <thead>\n",
       "    <tr style=\"text-align: right;\">\n",
       "      <th></th>\n",
       "      <th>id</th>\n",
       "      <th>location</th>\n",
       "      <th>score_player</th>\n",
       "      <th>match_id</th>\n",
       "      <th>home_team_id</th>\n",
       "      <th>score_team_id</th>\n",
       "      <th>play_time</th>\n",
       "      <th>score_point</th>\n",
       "      <th>diff_score</th>\n",
       "      <th>previous_status</th>\n",
       "      <th>tying_goal_flag</th>\n",
       "    </tr>\n",
       "  </thead>\n",
       "  <tbody>\n",
       "    <tr>\n",
       "      <th>0</th>\n",
       "      <td>2</td>\n",
       "      <td>1</td>\n",
       "      <td>1</td>\n",
       "      <td>2013-1-001</td>\n",
       "      <td>10</td>\n",
       "      <td>10</td>\n",
       "      <td>29</td>\n",
       "      <td>1</td>\n",
       "      <td>1</td>\n",
       "      <td>0.0</td>\n",
       "      <td>False</td>\n",
       "    </tr>\n",
       "    <tr>\n",
       "      <th>1</th>\n",
       "      <td>3</td>\n",
       "      <td>1</td>\n",
       "      <td>2</td>\n",
       "      <td>2013-1-001</td>\n",
       "      <td>10</td>\n",
       "      <td>25</td>\n",
       "      <td>32</td>\n",
       "      <td>-1</td>\n",
       "      <td>0</td>\n",
       "      <td>1.0</td>\n",
       "      <td>False</td>\n",
       "    </tr>\n",
       "    <tr>\n",
       "      <th>2</th>\n",
       "      <td>4</td>\n",
       "      <td>1</td>\n",
       "      <td>3</td>\n",
       "      <td>2013-1-001</td>\n",
       "      <td>10</td>\n",
       "      <td>10</td>\n",
       "      <td>2</td>\n",
       "      <td>1</td>\n",
       "      <td>1</td>\n",
       "      <td>0.0</td>\n",
       "      <td>False</td>\n",
       "    </tr>\n",
       "    <tr>\n",
       "      <th>3</th>\n",
       "      <td>5</td>\n",
       "      <td>1</td>\n",
       "      <td>4</td>\n",
       "      <td>2013-1-001</td>\n",
       "      <td>10</td>\n",
       "      <td>25</td>\n",
       "      <td>38</td>\n",
       "      <td>-1</td>\n",
       "      <td>0</td>\n",
       "      <td>1.0</td>\n",
       "      <td>False</td>\n",
       "    </tr>\n",
       "    <tr>\n",
       "      <th>4</th>\n",
       "      <td>6</td>\n",
       "      <td>1</td>\n",
       "      <td>5</td>\n",
       "      <td>2013-1-002</td>\n",
       "      <td>19</td>\n",
       "      <td>5</td>\n",
       "      <td>4</td>\n",
       "      <td>-1</td>\n",
       "      <td>-1</td>\n",
       "      <td>0.0</td>\n",
       "      <td>False</td>\n",
       "    </tr>\n",
       "  </tbody>\n",
       "</table>\n",
       "</div>"
      ],
      "text/plain": [
       "   id  location score_player    match_id  home_team_id  score_team_id  \\\n",
       "0   2         1            1  2013-1-001            10             10   \n",
       "1   3         1            2  2013-1-001            10             25   \n",
       "2   4         1            3  2013-1-001            10             10   \n",
       "3   5         1            4  2013-1-001            10             25   \n",
       "4   6         1            5  2013-1-002            19              5   \n",
       "\n",
       "   play_time  score_point  diff_score  previous_status  tying_goal_flag  \n",
       "0         29            1           1              0.0            False  \n",
       "1         32           -1           0              1.0            False  \n",
       "2          2            1           1              0.0            False  \n",
       "3         38           -1           0              1.0            False  \n",
       "4          4           -1          -1              0.0            False  "
      ]
     },
     "execution_count": 10,
     "metadata": {},
     "output_type": "execute_result"
    }
   ],
   "source": [
    "# target = 'home'\n",
    "# target = 'away'\n",
    "target = 'total'\n",
    "\n",
    "if target == 'home':\n",
    "    target_pd = home_goal_pd\n",
    "elif target == 'away':\n",
    "    target_pd = away_goal_pd\n",
    "elif target == 'total':\n",
    "    target_pd = home_goal_pd.append(away_goal_pd, ignore_index=True)\n",
    "    \n",
    "target_pd.head()"
   ]
  },
  {
   "cell_type": "code",
   "execution_count": 11,
   "metadata": {},
   "outputs": [
    {
     "data": {
      "text/html": [
       "<div>\n",
       "<style scoped>\n",
       "    .dataframe tbody tr th:only-of-type {\n",
       "        vertical-align: middle;\n",
       "    }\n",
       "\n",
       "    .dataframe tbody tr th {\n",
       "        vertical-align: top;\n",
       "    }\n",
       "\n",
       "    .dataframe thead th {\n",
       "        text-align: right;\n",
       "    }\n",
       "</style>\n",
       "<table border=\"1\" class=\"dataframe\">\n",
       "  <thead>\n",
       "    <tr style=\"text-align: right;\">\n",
       "      <th></th>\n",
       "      <th>match_id</th>\n",
       "      <th>home_team_id</th>\n",
       "      <th>tying_goal_flag</th>\n",
       "      <th>winning_flag</th>\n",
       "    </tr>\n",
       "    <tr>\n",
       "      <th>location</th>\n",
       "      <th></th>\n",
       "      <th></th>\n",
       "      <th></th>\n",
       "      <th></th>\n",
       "    </tr>\n",
       "  </thead>\n",
       "  <tbody>\n",
       "    <tr>\n",
       "      <th>0</th>\n",
       "      <td>2013-1-001</td>\n",
       "      <td>25</td>\n",
       "      <td>1</td>\n",
       "      <td>0</td>\n",
       "    </tr>\n",
       "    <tr>\n",
       "      <th>1</th>\n",
       "      <td>2013-1-001</td>\n",
       "      <td>10</td>\n",
       "      <td>0</td>\n",
       "      <td>0</td>\n",
       "    </tr>\n",
       "    <tr>\n",
       "      <th>0</th>\n",
       "      <td>2013-1-002</td>\n",
       "      <td>5</td>\n",
       "      <td>0</td>\n",
       "      <td>-1</td>\n",
       "    </tr>\n",
       "    <tr>\n",
       "      <th>1</th>\n",
       "      <td>2013-1-002</td>\n",
       "      <td>19</td>\n",
       "      <td>1</td>\n",
       "      <td>1</td>\n",
       "    </tr>\n",
       "    <tr>\n",
       "      <th>0</th>\n",
       "      <td>2013-1-003</td>\n",
       "      <td>23</td>\n",
       "      <td>0</td>\n",
       "      <td>1</td>\n",
       "    </tr>\n",
       "  </tbody>\n",
       "</table>\n",
       "</div>"
      ],
      "text/plain": [
       "            match_id  home_team_id  tying_goal_flag  winning_flag\n",
       "location                                                         \n",
       "0         2013-1-001            25                1             0\n",
       "1         2013-1-001            10                0             0\n",
       "0         2013-1-002             5                0            -1\n",
       "1         2013-1-002            19                1             1\n",
       "0         2013-1-003            23                0             1"
      ]
     },
     "execution_count": 11,
     "metadata": {},
     "output_type": "execute_result"
    }
   ],
   "source": [
    "tying_goal_pd = pd.DataFrame(target_pd.groupby(['match_id', 'location']).agg({'tying_goal_flag': 'sum', 'home_team_id': 'min'})\n",
    "                             , columns=['home_team_id', 'tying_goal_flag', 'winning_flag'])\n",
    "tying_goal_pd.reset_index(level=0, inplace=True)\n",
    "tying_goal_pd.winning_flag = np.where(tying_goal_pd.match_id.apply(get_game_info)['winning_team'] == 0, 0, np.where(tying_goal_pd.home_team_id == tying_goal_pd.match_id.apply(get_game_info)['winning_team'], 1, -1))\n",
    "tying_goal_count_pd = copy.deepcopy(tying_goal_pd)\n",
    "tying_goal_pd.tying_goal_flag = np.where(tying_goal_pd.tying_goal_flag > 0, 1, 0)\n",
    "tying_goal_pd.head()"
   ]
  },
  {
   "cell_type": "markdown",
   "metadata": {},
   "source": [
    "## 통계치 분석\n",
    "\n",
    "### 동점골 여부와 경기 결과 Cross Table"
   ]
  },
  {
   "cell_type": "code",
   "execution_count": 12,
   "metadata": {},
   "outputs": [
    {
     "data": {
      "text/html": [
       "<div>\n",
       "<style scoped>\n",
       "    .dataframe tbody tr th:only-of-type {\n",
       "        vertical-align: middle;\n",
       "    }\n",
       "\n",
       "    .dataframe tbody tr th {\n",
       "        vertical-align: top;\n",
       "    }\n",
       "\n",
       "    .dataframe thead th {\n",
       "        text-align: right;\n",
       "    }\n",
       "</style>\n",
       "<table border=\"1\" class=\"dataframe\">\n",
       "  <thead>\n",
       "    <tr style=\"text-align: right;\">\n",
       "      <th></th>\n",
       "      <th>win</th>\n",
       "      <th>draw</th>\n",
       "      <th>lose</th>\n",
       "    </tr>\n",
       "  </thead>\n",
       "  <tbody>\n",
       "    <tr>\n",
       "      <th>non_tying_goal</th>\n",
       "      <td>32.755946</td>\n",
       "      <td>8.945191</td>\n",
       "      <td>31.902792</td>\n",
       "    </tr>\n",
       "    <tr>\n",
       "      <th>tying_goal</th>\n",
       "      <td>6.747673</td>\n",
       "      <td>12.047570</td>\n",
       "      <td>7.600827</td>\n",
       "    </tr>\n",
       "  </tbody>\n",
       "</table>\n",
       "</div>"
      ],
      "text/plain": [
       "                      win       draw       lose\n",
       "non_tying_goal  32.755946   8.945191  31.902792\n",
       "tying_goal       6.747673  12.047570   7.600827"
      ]
     },
     "execution_count": 12,
     "metadata": {},
     "output_type": "execute_result"
    }
   ],
   "source": [
    "total_match_counts = len(tying_goal_pd)\n",
    "victory_count = [{'win': sum(np.where(tying_goal_pd.tying_goal_flag == 0, np.where(tying_goal_pd.winning_flag == 1, 1, 0), 0)), \n",
    "  'draw': sum(np.where(tying_goal_pd.tying_goal_flag == 0, np.where(tying_goal_pd.winning_flag == 0, 1, 0), 0)), \n",
    "  'lose': sum(np.where(tying_goal_pd.tying_goal_flag == 0, np.where(tying_goal_pd.winning_flag == -1, 1, 0), 0))}, \n",
    " {'win': sum(np.where(tying_goal_pd.tying_goal_flag == 1, np.where(tying_goal_pd.winning_flag == 1, 1, 0), 0)), \n",
    "  'draw': sum(np.where(tying_goal_pd.tying_goal_flag == 1, np.where(tying_goal_pd.winning_flag == 0, 1, 0), 0)), \n",
    "  'lose': sum(np.where(tying_goal_pd.tying_goal_flag == 1, np.where(tying_goal_pd.winning_flag == -1, 1, 0), 0))}]\n",
    "\n",
    "tying_goal_outcome_pd = pd.DataFrame(victory_count, columns = ['win', 'draw', 'lose'], index = ['non_tying_goal', 'tying_goal'])\n",
    "tying_goal_outcome_pd = tying_goal_outcome_pd\n",
    "tying_goal_outcome_pd / total_match_counts * 100"
   ]
  },
  {
   "cell_type": "markdown",
   "metadata": {},
   "source": [
    "* 동점골(Tying goal)이 없는 경우\n",
    "    1. 승: 동점상황없이 계속 앞선 경우\n",
    "    2. 무: 0:0\n",
    "    3. 패: 돔정상황없이 계속 뒤진 경우\n",
    "* 동점골이 있는 경우\n",
    "    1. 승: 역전승\n",
    "    2. 무: 동점상황을 만들고 종료 or 역전 후 다시 동점\n",
    "    3. 패: 동점을 만들었으나 다시 격차가 벌어진 경우 or 역전을 했으나 다시 역전된 경우"
   ]
  },
  {
   "cell_type": "markdown",
   "metadata": {},
   "source": [
    "#### 카이제곱 검정"
   ]
  },
  {
   "cell_type": "code",
   "execution_count": 13,
   "metadata": {},
   "outputs": [
    {
     "name": "stdout",
     "output_type": "stream",
     "text": [
      "[[1267  346 1234]\n",
      " [ 261  466  294]]\n"
     ]
    },
    {
     "data": {
      "text/plain": [
       "(509.9686491482283,\n",
       " 1.8269003779208847e-111,\n",
       " 2,\n",
       " array([[1124.6680455,  597.663909 , 1124.6680455],\n",
       "        [ 403.3319545,  214.336091 ,  403.3319545]]))"
      ]
     },
     "execution_count": 13,
     "metadata": {},
     "output_type": "execute_result"
    }
   ],
   "source": [
    "print(tying_goal_outcome_pd.values)\n",
    "result = st.chi2_contingency(tying_goal_outcome_pd.values)\n",
    "\n",
    "result"
   ]
  },
  {
   "cell_type": "markdown",
   "metadata": {},
   "source": [
    "* x^2는 509.97, P-value는 0.01보다 매우 작은 수치, 자유도는 2\n",
    "* 동점골 여부에 따라 경기결과에 차이가 존재"
   ]
  },
  {
   "cell_type": "markdown",
   "metadata": {},
   "source": [
    "#### 통계 확인"
   ]
  },
  {
   "cell_type": "code",
   "execution_count": 14,
   "metadata": {},
   "outputs": [
    {
     "data": {
      "text/html": [
       "<div>\n",
       "<style scoped>\n",
       "    .dataframe tbody tr th:only-of-type {\n",
       "        vertical-align: middle;\n",
       "    }\n",
       "\n",
       "    .dataframe tbody tr th {\n",
       "        vertical-align: top;\n",
       "    }\n",
       "\n",
       "    .dataframe thead th {\n",
       "        text-align: right;\n",
       "    }\n",
       "</style>\n",
       "<table border=\"1\" class=\"dataframe\">\n",
       "  <thead>\n",
       "    <tr style=\"text-align: right;\">\n",
       "      <th></th>\n",
       "      <th>win</th>\n",
       "      <th>draw</th>\n",
       "      <th>lose</th>\n",
       "      <th>total</th>\n",
       "      <th>win_prob</th>\n",
       "      <th>draw_prob</th>\n",
       "      <th>lose_prob</th>\n",
       "    </tr>\n",
       "  </thead>\n",
       "  <tbody>\n",
       "    <tr>\n",
       "      <th>non_tying_goal</th>\n",
       "      <td>1267.0</td>\n",
       "      <td>346.0</td>\n",
       "      <td>1234.0</td>\n",
       "      <td>2847.0</td>\n",
       "      <td>0.445030</td>\n",
       "      <td>0.121531</td>\n",
       "      <td>0.433439</td>\n",
       "    </tr>\n",
       "    <tr>\n",
       "      <th>tying_goal</th>\n",
       "      <td>261.0</td>\n",
       "      <td>466.0</td>\n",
       "      <td>294.0</td>\n",
       "      <td>1021.0</td>\n",
       "      <td>0.255632</td>\n",
       "      <td>0.456415</td>\n",
       "      <td>0.287953</td>\n",
       "    </tr>\n",
       "    <tr>\n",
       "      <th>total</th>\n",
       "      <td>1528.0</td>\n",
       "      <td>812.0</td>\n",
       "      <td>1528.0</td>\n",
       "      <td>3868.0</td>\n",
       "      <td>0.395036</td>\n",
       "      <td>0.209928</td>\n",
       "      <td>0.395036</td>\n",
       "    </tr>\n",
       "  </tbody>\n",
       "</table>\n",
       "</div>"
      ],
      "text/plain": [
       "                   win   draw    lose   total  win_prob  draw_prob  lose_prob\n",
       "non_tying_goal  1267.0  346.0  1234.0  2847.0  0.445030   0.121531   0.433439\n",
       "tying_goal       261.0  466.0   294.0  1021.0  0.255632   0.456415   0.287953\n",
       "total           1528.0  812.0  1528.0  3868.0  0.395036   0.209928   0.395036"
      ]
     },
     "execution_count": 14,
     "metadata": {},
     "output_type": "execute_result"
    }
   ],
   "source": [
    "t2 = pd.DataFrame(tying_goal_outcome_pd, columns = ['win', 'draw', 'lose', 'total', 'win_prob', 'draw_prob', 'lose_prob'], index = ['non_tying_goal', 'tying_goal', 'total'])\n",
    "t2.total = t2.win + t2.draw + t2.lose\n",
    "t2.loc['total'] = pd.Series([sum(t2[:2].win), sum(t2[:2].draw), sum(t2[:2].lose), sum(t2[:2].total)], index = ['win', 'draw', 'lose', 'total'])\n",
    "t2.win_prob = t2.win / t2.total\n",
    "t2.draw_prob = t2.draw / t2.total\n",
    "t2.lose_prob = t2.lose / t2.total\n",
    "t2"
   ]
  },
  {
   "cell_type": "markdown",
   "metadata": {},
   "source": [
    "* 동점골이 있는 경우 승/패의 비율은 줄어들지만, 무승부의 비율이 증가"
   ]
  },
  {
   "cell_type": "markdown",
   "metadata": {},
   "source": [
    "### 동점골의 횟수와 경기 결과 Cross Table"
   ]
  },
  {
   "cell_type": "code",
   "execution_count": 15,
   "metadata": {},
   "outputs": [
    {
     "data": {
      "text/plain": [
       "3.0"
      ]
     },
     "execution_count": 15,
     "metadata": {},
     "output_type": "execute_result"
    }
   ],
   "source": [
    "max(tying_goal_count_pd.tying_goal_flag)"
   ]
  },
  {
   "cell_type": "code",
   "execution_count": 16,
   "metadata": {},
   "outputs": [
    {
     "data": {
      "text/html": [
       "<div>\n",
       "<style scoped>\n",
       "    .dataframe tbody tr th:only-of-type {\n",
       "        vertical-align: middle;\n",
       "    }\n",
       "\n",
       "    .dataframe tbody tr th {\n",
       "        vertical-align: top;\n",
       "    }\n",
       "\n",
       "    .dataframe thead th {\n",
       "        text-align: right;\n",
       "    }\n",
       "</style>\n",
       "<table border=\"1\" class=\"dataframe\">\n",
       "  <thead>\n",
       "    <tr style=\"text-align: right;\">\n",
       "      <th></th>\n",
       "      <th>win</th>\n",
       "      <th>draw</th>\n",
       "      <th>lose</th>\n",
       "    </tr>\n",
       "  </thead>\n",
       "  <tbody>\n",
       "    <tr>\n",
       "      <th>0</th>\n",
       "      <td>1267</td>\n",
       "      <td>346</td>\n",
       "      <td>1234</td>\n",
       "    </tr>\n",
       "    <tr>\n",
       "      <th>1</th>\n",
       "      <td>245</td>\n",
       "      <td>412</td>\n",
       "      <td>274</td>\n",
       "    </tr>\n",
       "    <tr>\n",
       "      <th>2</th>\n",
       "      <td>16</td>\n",
       "      <td>53</td>\n",
       "      <td>19</td>\n",
       "    </tr>\n",
       "    <tr>\n",
       "      <th>3</th>\n",
       "      <td>0</td>\n",
       "      <td>1</td>\n",
       "      <td>1</td>\n",
       "    </tr>\n",
       "  </tbody>\n",
       "</table>\n",
       "</div>"
      ],
      "text/plain": [
       "    win  draw  lose\n",
       "0  1267   346  1234\n",
       "1   245   412   274\n",
       "2    16    53    19\n",
       "3     0     1     1"
      ]
     },
     "execution_count": 16,
     "metadata": {},
     "output_type": "execute_result"
    }
   ],
   "source": [
    "victory_count2 = \\\n",
    "[{'win': sum(np.where(tying_goal_count_pd.tying_goal_flag == 0, np.where(tying_goal_count_pd.winning_flag == 1, 1, 0), 0)), \n",
    "  'draw': sum(np.where(tying_goal_count_pd.tying_goal_flag == 0, np.where(tying_goal_count_pd.winning_flag == 0, 1, 0), 0)), \n",
    "  'lose': sum(np.where(tying_goal_count_pd.tying_goal_flag == 0, np.where(tying_goal_count_pd.winning_flag == -1, 1, 0), 0))}, \n",
    " {'win': sum(np.where(tying_goal_count_pd.tying_goal_flag == 1, np.where(tying_goal_count_pd.winning_flag == 1, 1, 0), 0)), \n",
    "  'draw': sum(np.where(tying_goal_count_pd.tying_goal_flag == 1, np.where(tying_goal_count_pd.winning_flag == 0, 1, 0), 0)), \n",
    "  'lose': sum(np.where(tying_goal_count_pd.tying_goal_flag == 1, np.where(tying_goal_count_pd.winning_flag == -1, 1, 0), 0))},\n",
    "{'win': sum(np.where(tying_goal_count_pd.tying_goal_flag == 2, np.where(tying_goal_count_pd.winning_flag == 1, 1, 0), 0)), \n",
    "  'draw': sum(np.where(tying_goal_count_pd.tying_goal_flag == 2, np.where(tying_goal_count_pd.winning_flag == 0, 1, 0), 0)), \n",
    "  'lose': sum(np.where(tying_goal_count_pd.tying_goal_flag == 2, np.where(tying_goal_count_pd.winning_flag == -1, 1, 0), 0))}]\n",
    "\n",
    "if target != 'away':\n",
    "    victory_count2.append({'win': sum(np.where(tying_goal_count_pd.tying_goal_flag == 3, np.where(tying_goal_count_pd.winning_flag == 1, 1, 0), 0)), \n",
    "      'draw': sum(np.where(tying_goal_count_pd.tying_goal_flag == 3, np.where(tying_goal_count_pd.winning_flag == 0, 1, 0), 0)), \n",
    "      'lose': sum(np.where(tying_goal_count_pd.tying_goal_flag == 3, np.where(tying_goal_count_pd.winning_flag == -1, 1, 0), 0))})\n",
    "\n",
    "tying_goal_count_outcome_pd = pd.DataFrame(victory_count2, columns = ['win', 'draw', 'lose'])\n",
    "tying_goal_count_outcome_pd"
   ]
  },
  {
   "cell_type": "markdown",
   "metadata": {},
   "source": [
    "#### 카이제곱 검정"
   ]
  },
  {
   "cell_type": "code",
   "execution_count": 17,
   "metadata": {},
   "outputs": [
    {
     "name": "stdout",
     "output_type": "stream",
     "text": [
      "[[1267  346 1234]\n",
      " [ 245  412  274]\n",
      " [  16   53   19]\n",
      " [   0    1    1]]\n"
     ]
    },
    {
     "data": {
      "text/plain": [
       "(522.9163223755935,\n",
       " 9.710907562634509e-110,\n",
       " 6,\n",
       " array([[1.12466805e+03, 5.97663909e+02, 1.12466805e+03],\n",
       "        [3.67778697e+02, 1.95442606e+02, 3.67778697e+02],\n",
       "        [3.47631851e+01, 1.84736298e+01, 3.47631851e+01],\n",
       "        [7.90072389e-01, 4.19855222e-01, 7.90072389e-01]]))"
      ]
     },
     "execution_count": 17,
     "metadata": {},
     "output_type": "execute_result"
    }
   ],
   "source": [
    "print(tying_goal_count_outcome_pd.values)\n",
    "result = st.chi2_contingency(tying_goal_count_outcome_pd.values)\n",
    "\n",
    "result"
   ]
  },
  {
   "cell_type": "markdown",
   "metadata": {},
   "source": [
    "* x^2는 522.92, P-value는 0.01보다 매우 작은 수치, 자유도는 6\n",
    "* 동점골 횟수에 따라 경기결과에 차이가 존재"
   ]
  },
  {
   "cell_type": "code",
   "execution_count": 18,
   "metadata": {},
   "outputs": [
    {
     "data": {
      "text/plain": [
       "(408.31214120924494,\n",
       " 3.5046209376961894e-88,\n",
       " 3,\n",
       " array([[1.05327521e+03, 5.59724786e+02],\n",
       "        [4.29015385e+02, 2.27984615e+02],\n",
       "        [4.50564103e+01, 2.39435897e+01],\n",
       "        [6.52991453e-01, 3.47008547e-01]]))"
      ]
     },
     "execution_count": 18,
     "metadata": {},
     "output_type": "execute_result"
    }
   ],
   "source": [
    "st.chi2_contingency(tying_goal_count_outcome_pd[['win', 'draw']].values)"
   ]
  },
  {
   "cell_type": "code",
   "execution_count": 19,
   "metadata": {},
   "outputs": [
    {
     "data": {
      "text/plain": [
       "(3.3129925789111825, 0.3458384096037368, 3, array([[1.2505e+03, 1.2505e+03],\n",
       "        [2.5950e+02, 2.5950e+02],\n",
       "        [1.7500e+01, 1.7500e+01],\n",
       "        [5.0000e-01, 5.0000e-01]]))"
      ]
     },
     "execution_count": 19,
     "metadata": {},
     "output_type": "execute_result"
    }
   ],
   "source": [
    "st.chi2_contingency(tying_goal_count_outcome_pd[['win', 'lose']].values)"
   ]
  },
  {
   "cell_type": "code",
   "execution_count": 20,
   "metadata": {},
   "outputs": [
    {
     "data": {
      "text/plain": [
       "(357.25985525212417,\n",
       " 3.99623356125984e-77,\n",
       " 3,\n",
       " array([[1.03172650e+03, 5.48273504e+02],\n",
       "        [4.47952137e+02, 2.38047863e+02],\n",
       "        [4.70153846e+01, 2.49846154e+01],\n",
       "        [1.30598291e+00, 6.94017094e-01]]))"
      ]
     },
     "execution_count": 20,
     "metadata": {},
     "output_type": "execute_result"
    }
   ],
   "source": [
    "st.chi2_contingency(tying_goal_count_outcome_pd[['lose', 'draw']].values)"
   ]
  },
  {
   "cell_type": "markdown",
   "metadata": {},
   "source": [
    "* 무승부와 승/패 간에는 유의미한 차이가 존재하지만, 승리와 패배 사이에는 유의미한 차이가 존재하지 않음(p<0.01)"
   ]
  },
  {
   "cell_type": "markdown",
   "metadata": {},
   "source": [
    "|       | HOME                                           | AWAY                                           | TOTAL                                      |\n",
    "| ----- | ---------------------------------------------- | ---------------------------------------------- | ------------------------------------------ |\n",
    "| W/D/L | 3~~11.74120350643744,  2.490740857336074e-64~~ | ~~220.23906253853656,  1.665273690589081e-46~~ | 522.9163223755935, 9.710907562634509e-110  |\n",
    "| W/D   | ~~265.0451946706612,  3.642475777190881e-57~~  | ~~173.6019224685825,  2.0082672778738617e-38~~ | 408.31214120924494, 3.5046209376961894e-88 |\n",
    "| W/L   | ~~8.25462939028626,  0.04103221604893905~~     | ~~1.1445635943916925,  0.5642364954521273~~    | 3.3129925789111825, 0.3458384096037368     |\n",
    "| D/L   | ~~184.45299764006117,  9.632944153489867e-40~~ | ~~149.86311447197244, 2.868389816598579e-33~~  | 357.25985525212417, 3.99623356125984e-77   |"
   ]
  },
  {
   "cell_type": "markdown",
   "metadata": {},
   "source": [
    "#### 통계 확인"
   ]
  },
  {
   "cell_type": "code",
   "execution_count": 21,
   "metadata": {},
   "outputs": [
    {
     "data": {
      "text/html": [
       "<div>\n",
       "<style scoped>\n",
       "    .dataframe tbody tr th:only-of-type {\n",
       "        vertical-align: middle;\n",
       "    }\n",
       "\n",
       "    .dataframe tbody tr th {\n",
       "        vertical-align: top;\n",
       "    }\n",
       "\n",
       "    .dataframe thead th {\n",
       "        text-align: right;\n",
       "    }\n",
       "</style>\n",
       "<table border=\"1\" class=\"dataframe\">\n",
       "  <thead>\n",
       "    <tr style=\"text-align: right;\">\n",
       "      <th></th>\n",
       "      <th>win</th>\n",
       "      <th>draw</th>\n",
       "      <th>lose</th>\n",
       "      <th>total</th>\n",
       "      <th>win_prob</th>\n",
       "      <th>draw_prob</th>\n",
       "      <th>lose_prob</th>\n",
       "    </tr>\n",
       "  </thead>\n",
       "  <tbody>\n",
       "    <tr>\n",
       "      <th>non tying goal</th>\n",
       "      <td>1267.0</td>\n",
       "      <td>346.0</td>\n",
       "      <td>1234.0</td>\n",
       "      <td>2847.0</td>\n",
       "      <td>0.445030</td>\n",
       "      <td>0.121531</td>\n",
       "      <td>0.433439</td>\n",
       "    </tr>\n",
       "    <tr>\n",
       "      <th>1 tying goal</th>\n",
       "      <td>245.0</td>\n",
       "      <td>412.0</td>\n",
       "      <td>274.0</td>\n",
       "      <td>931.0</td>\n",
       "      <td>0.263158</td>\n",
       "      <td>0.442535</td>\n",
       "      <td>0.294307</td>\n",
       "    </tr>\n",
       "    <tr>\n",
       "      <th>2 or more tying goal</th>\n",
       "      <td>16.0</td>\n",
       "      <td>54.0</td>\n",
       "      <td>20.0</td>\n",
       "      <td>90.0</td>\n",
       "      <td>0.177778</td>\n",
       "      <td>0.600000</td>\n",
       "      <td>0.222222</td>\n",
       "    </tr>\n",
       "    <tr>\n",
       "      <th>total</th>\n",
       "      <td>1528.0</td>\n",
       "      <td>812.0</td>\n",
       "      <td>1528.0</td>\n",
       "      <td>3868.0</td>\n",
       "      <td>0.395036</td>\n",
       "      <td>0.209928</td>\n",
       "      <td>0.395036</td>\n",
       "    </tr>\n",
       "  </tbody>\n",
       "</table>\n",
       "</div>"
      ],
      "text/plain": [
       "                         win   draw    lose   total  win_prob  draw_prob  \\\n",
       "non tying goal        1267.0  346.0  1234.0  2847.0  0.445030   0.121531   \n",
       "1 tying goal           245.0  412.0   274.0   931.0  0.263158   0.442535   \n",
       "2 or more tying goal    16.0   54.0    20.0    90.0  0.177778   0.600000   \n",
       "total                 1528.0  812.0  1528.0  3868.0  0.395036   0.209928   \n",
       "\n",
       "                      lose_prob  \n",
       "non tying goal         0.433439  \n",
       "1 tying goal           0.294307  \n",
       "2 or more tying goal   0.222222  \n",
       "total                  0.395036  "
      ]
     },
     "execution_count": 21,
     "metadata": {},
     "output_type": "execute_result"
    }
   ],
   "source": [
    "if target != 'away':\n",
    "    mr = 4\n",
    "else:\n",
    "    mr = 3\n",
    "    \n",
    "index = list(range(mr))\n",
    "index = index.append('total')\n",
    "\n",
    "t = pd.DataFrame(tying_goal_count_outcome_pd, columns = ['win', 'draw', 'lose', 'total', 'win_prob', 'draw_prob', 'lose_prob'], index = index)\n",
    "t.total = t.win + t.draw + t.lose\n",
    "t.loc['total'] = pd.Series([sum(t[:mr].win), sum(t[:mr].draw), sum(t[:mr].lose), sum(t[:mr].total)], index = ['win', 'draw', 'lose', 'total'])\n",
    "t.loc[2] = pd.Series([sum(t[2:mr].win), sum(t[2:mr].draw), sum(t[2:mr].lose), sum(t[2:mr].total)], index = ['win', 'draw', 'lose', 'total'])\n",
    "if mr == 4: t = t.drop(3)\n",
    "t.win_prob = t.win / t.total\n",
    "t.draw_prob = t.draw / t.total\n",
    "t.lose_prob = t.lose / t.total\n",
    "t.index = ['non tying goal', '1 tying goal', '2 or more tying goal', 'total']\n",
    "t"
   ]
  },
  {
   "cell_type": "markdown",
   "metadata": {},
   "source": [
    "* 동점골 횟수가 증가함에 따라 승리비율은 감소, 패배 비율도 감소로 판단 가능\n",
    "* 동점골 횟수가 증가하면서 무승부의 비율 증가"
   ]
  },
  {
   "cell_type": "markdown",
   "metadata": {},
   "source": [
    "## 참고자료"
   ]
  },
  {
   "cell_type": "markdown",
   "metadata": {},
   "source": [
    "#### 로지스틱 회귀분석\n",
    "* 독립변수: 홈/어웨이, 동점골여부(혹은 횟수)\n",
    "* 종속변수: 무승부여부(무 vs. 승/패)"
   ]
  },
  {
   "cell_type": "code",
   "execution_count": 22,
   "metadata": {},
   "outputs": [
    {
     "data": {
      "text/html": [
       "<div>\n",
       "<style scoped>\n",
       "    .dataframe tbody tr th:only-of-type {\n",
       "        vertical-align: middle;\n",
       "    }\n",
       "\n",
       "    .dataframe tbody tr th {\n",
       "        vertical-align: top;\n",
       "    }\n",
       "\n",
       "    .dataframe thead th {\n",
       "        text-align: right;\n",
       "    }\n",
       "</style>\n",
       "<table border=\"1\" class=\"dataframe\">\n",
       "  <thead>\n",
       "    <tr style=\"text-align: right;\">\n",
       "      <th></th>\n",
       "      <th>location</th>\n",
       "      <th>year</th>\n",
       "      <th>tying_goal</th>\n",
       "      <th>victory</th>\n",
       "    </tr>\n",
       "  </thead>\n",
       "  <tbody>\n",
       "    <tr>\n",
       "      <th>0</th>\n",
       "      <td>0</td>\n",
       "      <td>2013</td>\n",
       "      <td>1</td>\n",
       "      <td>1</td>\n",
       "    </tr>\n",
       "    <tr>\n",
       "      <th>1</th>\n",
       "      <td>1</td>\n",
       "      <td>2013</td>\n",
       "      <td>0</td>\n",
       "      <td>1</td>\n",
       "    </tr>\n",
       "    <tr>\n",
       "      <th>8</th>\n",
       "      <td>0</td>\n",
       "      <td>2013</td>\n",
       "      <td>1</td>\n",
       "      <td>1</td>\n",
       "    </tr>\n",
       "    <tr>\n",
       "      <th>9</th>\n",
       "      <td>1</td>\n",
       "      <td>2013</td>\n",
       "      <td>0</td>\n",
       "      <td>1</td>\n",
       "    </tr>\n",
       "    <tr>\n",
       "      <th>18</th>\n",
       "      <td>0</td>\n",
       "      <td>2013</td>\n",
       "      <td>0</td>\n",
       "      <td>1</td>\n",
       "    </tr>\n",
       "  </tbody>\n",
       "</table>\n",
       "</div>"
      ],
      "text/plain": [
       "    location  year  tying_goal  victory\n",
       "0          0  2013           1        1\n",
       "1          1  2013           0        1\n",
       "8          0  2013           1        1\n",
       "9          1  2013           0        1\n",
       "18         0  2013           0        1"
      ]
     },
     "execution_count": 22,
     "metadata": {},
     "output_type": "execute_result"
    }
   ],
   "source": [
    "logit_data = pd.DataFrame(tying_goal_pd, columns=['match_id', 'tying_goal_flag', 'winning_flag'])\n",
    "logit_data.reset_index(level=0, inplace=True)\n",
    "logit_data.match_id = logit_data.match_id.str.split('-').str.get(0)\n",
    "logit_data.match_id = logit_data.match_id.apply(pd.to_numeric)\n",
    "logit_data.columns = ['location', 'year', 'tying_goal', 'victory']\n",
    "logit_data.victory = np.where(logit_data.victory == 0, 1, 0)\n",
    "\n",
    "# 무승부의 경기 수가 적은 부분을 보완하기 위해 동일한 갯수의 Sample 추출\n",
    "# 샘플 보완 없이 회귀분석 시 무조건 무승부 아님으로 예측 (이 경우에도 F1-score는 0.5 이상)\n",
    "logit_data = logit_data[logit_data.victory == 1].append(logit_data[logit_data.victory == 0].sample(len(logit_data[logit_data.victory == 1])))\n",
    "\n",
    "train_set = logit_data[logit_data.year < 2017]\n",
    "test_set = logit_data[logit_data.year == 2017]\n",
    "\n",
    "logit_data.head()"
   ]
  },
  {
   "cell_type": "markdown",
   "metadata": {},
   "source": [
    "* Training Data와 Testing Data 분리\n",
    "    * 2013~2016년 vs. 2017년 / Random Sampling 두 가지 방식 사용   "
   ]
  },
  {
   "cell_type": "code",
   "execution_count": 23,
   "metadata": {},
   "outputs": [
    {
     "name": "stderr",
     "output_type": "stream",
     "text": [
      "/usr/local/lib/python3.6/site-packages/sklearn/cross_validation.py:41: DeprecationWarning: This module was deprecated in version 0.18 in favor of the model_selection module into which all the refactored classes and functions are moved. Also note that the interface of the new CV iterators are different from that of this module. This module will be removed in 0.20.\n",
      "  \"This module will be removed in 0.20.\", DeprecationWarning)\n"
     ]
    },
    {
     "data": {
      "text/plain": [
       "[('Intercept', array([-0.3183715])), ('tying_goal', array([1.73824051]))]"
      ]
     },
     "execution_count": 23,
     "metadata": {},
     "output_type": "execute_result"
    }
   ],
   "source": [
    "from patsy import dmatrices\n",
    "from sklearn.cross_validation import train_test_split\n",
    "\n",
    "# 2017년을 test set으로 하는 sampling\n",
    "y_train, x_train = dmatrices('victory ~ tying_goal', train_set, return_type='dataframe')\n",
    "y_test, x_test = dmatrices('victory ~ tying_goal', test_set, return_type='dataframe')\n",
    "y_train = np.ravel(y_train)\n",
    "y_test = np.ravel(y_test)\n",
    "\n",
    "# Random sampling\n",
    "# y, X = dmatrices('victory ~ tying_goal', logit_data, return_type='dataframe')\n",
    "# y = np.ravel(y)\n",
    "# x_train, x_test, y_train, y_test = train_test_split(X, y, test_size=0.2, random_state=0)\n",
    "\n",
    "from sklearn.linear_model import LogisticRegression\n",
    "model = LogisticRegression()\n",
    "model = model.fit(x_train, y_train)\n",
    "\n",
    "# 로지스틱 회귀식의 절편과 alpha 값\n",
    "list(zip(x_train.columns, np.transpose(model.coef_)))"
   ]
  },
  {
   "cell_type": "code",
   "execution_count": 24,
   "metadata": {},
   "outputs": [
    {
     "data": {
      "text/plain": [
       "0.6935105551211884"
      ]
     },
     "execution_count": 24,
     "metadata": {},
     "output_type": "execute_result"
    }
   ],
   "source": [
    "# Training Set 에서의 정확도\n",
    "model.score(x_train, y_train)"
   ]
  },
  {
   "cell_type": "code",
   "execution_count": 25,
   "metadata": {},
   "outputs": [
    {
     "data": {
      "text/plain": [
       "LogisticRegression(C=1.0, class_weight=None, dual=False, fit_intercept=True,\n",
       "          intercept_scaling=1, max_iter=100, multi_class='ovr', n_jobs=1,\n",
       "          penalty='l2', random_state=None, solver='liblinear', tol=0.0001,\n",
       "          verbose=0, warm_start=False)"
      ]
     },
     "execution_count": 25,
     "metadata": {},
     "output_type": "execute_result"
    }
   ],
   "source": [
    "model.sparsify()"
   ]
  },
  {
   "cell_type": "code",
   "execution_count": 35,
   "metadata": {},
   "outputs": [
    {
     "data": {
      "text/plain": [
       "(0.6985507246376812, 0.6995866102036701)"
      ]
     },
     "execution_count": 35,
     "metadata": {},
     "output_type": "execute_result"
    }
   ],
   "source": [
    "# Test Set을 이용하여 예측 수행\n",
    "\n",
    "from sklearn import metrics\n",
    "\n",
    "predicted = model.predict(x_test)\n",
    "predicted_probs = model.predict_proba(x_test)[:, 1]\n",
    "\n",
    "# Test Set 에서의 정확도\n",
    "metrics.accuracy_score(y_test, predicted), metrics.roc_auc_score(y_test, predicted_probs)"
   ]
  },
  {
   "cell_type": "code",
   "execution_count": 27,
   "metadata": {},
   "outputs": [
    {
     "data": {
      "text/html": [
       "<div>\n",
       "<style scoped>\n",
       "    .dataframe tbody tr th:only-of-type {\n",
       "        vertical-align: middle;\n",
       "    }\n",
       "\n",
       "    .dataframe tbody tr th {\n",
       "        vertical-align: top;\n",
       "    }\n",
       "\n",
       "    .dataframe thead th {\n",
       "        text-align: right;\n",
       "    }\n",
       "</style>\n",
       "<table border=\"1\" class=\"dataframe\">\n",
       "  <thead>\n",
       "    <tr style=\"text-align: right;\">\n",
       "      <th></th>\n",
       "      <th>Real Negative</th>\n",
       "      <th>Real Positive</th>\n",
       "    </tr>\n",
       "  </thead>\n",
       "  <tbody>\n",
       "    <tr>\n",
       "      <th>Predicted Positive</th>\n",
       "      <td>31</td>\n",
       "      <td>140</td>\n",
       "    </tr>\n",
       "    <tr>\n",
       "      <th>Predicted Negative</th>\n",
       "      <td>140</td>\n",
       "      <td>73</td>\n",
       "    </tr>\n",
       "  </tbody>\n",
       "</table>\n",
       "</div>"
      ],
      "text/plain": [
       "                    Real Negative  Real Positive\n",
       "Predicted Positive             31            140\n",
       "Predicted Negative            140             73"
      ]
     },
     "execution_count": 27,
     "metadata": {},
     "output_type": "execute_result"
    }
   ],
   "source": [
    "confusion_mt = metrics.confusion_matrix(y_test, predicted)\n",
    "tn, fp, fn, tp = confusion_mt.ravel()\n",
    "tn, fp, fn, tp, confusion_mt\n",
    "pd.DataFrame([{'Real Positive': tn, 'Real Negative': fp}, {'Real Positive': fn, 'Real Negative': tn}], index=['Predicted Positive', 'Predicted Negative'])"
   ]
  },
  {
   "cell_type": "code",
   "execution_count": 28,
   "metadata": {},
   "outputs": [
    {
     "name": "stdout",
     "output_type": "stream",
     "text": [
      "             precision    recall  f1-score   support\n",
      "\n",
      "        0.0       0.66      0.82      0.73       171\n",
      "        1.0       0.77      0.58      0.66       174\n",
      "\n",
      "avg / total       0.71      0.70      0.69       345\n",
      "\n"
     ]
    }
   ],
   "source": [
    "# F-measure 수행\n",
    "print(metrics.classification_report(y_test, predicted))"
   ]
  },
  {
   "cell_type": "markdown",
   "metadata": {},
   "source": [
    "#### 동점골을 가장 많이 넣은 선수는??"
   ]
  },
  {
   "cell_type": "code",
   "execution_count": 29,
   "metadata": {},
   "outputs": [
    {
     "data": {
      "text/plain": [
       "(5460, 10920, 1113)"
      ]
     },
     "execution_count": 29,
     "metadata": {},
     "output_type": "execute_result"
    }
   ],
   "source": [
    "sum(target_pd.location), len(target_pd.location), len(target_pd[target_pd.tying_goal_flag == True])"
   ]
  },
  {
   "cell_type": "code",
   "execution_count": 30,
   "metadata": {},
   "outputs": [
    {
     "data": {
      "text/html": [
       "<div>\n",
       "<style scoped>\n",
       "    .dataframe tbody tr th:only-of-type {\n",
       "        vertical-align: middle;\n",
       "    }\n",
       "\n",
       "    .dataframe tbody tr th {\n",
       "        vertical-align: top;\n",
       "    }\n",
       "\n",
       "    .dataframe thead th {\n",
       "        text-align: right;\n",
       "    }\n",
       "</style>\n",
       "<table border=\"1\" class=\"dataframe\">\n",
       "  <thead>\n",
       "    <tr style=\"text-align: right;\">\n",
       "      <th></th>\n",
       "      <th>id</th>\n",
       "      <th>location</th>\n",
       "      <th>score_player</th>\n",
       "      <th>match_id</th>\n",
       "      <th>home_team_id</th>\n",
       "      <th>score_team_id</th>\n",
       "      <th>play_time</th>\n",
       "      <th>score_point</th>\n",
       "      <th>diff_score</th>\n",
       "      <th>previous_status</th>\n",
       "      <th>tying_goal_flag</th>\n",
       "    </tr>\n",
       "  </thead>\n",
       "  <tbody>\n",
       "    <tr>\n",
       "      <th>5</th>\n",
       "      <td>7</td>\n",
       "      <td>1</td>\n",
       "      <td>6</td>\n",
       "      <td>2013-1-002</td>\n",
       "      <td>19</td>\n",
       "      <td>19</td>\n",
       "      <td>44</td>\n",
       "      <td>1</td>\n",
       "      <td>0</td>\n",
       "      <td>-1.0</td>\n",
       "      <td>True</td>\n",
       "    </tr>\n",
       "    <tr>\n",
       "      <th>9</th>\n",
       "      <td>11</td>\n",
       "      <td>1</td>\n",
       "      <td>10</td>\n",
       "      <td>2013-1-004</td>\n",
       "      <td>12</td>\n",
       "      <td>12</td>\n",
       "      <td>22</td>\n",
       "      <td>1</td>\n",
       "      <td>0</td>\n",
       "      <td>-1.0</td>\n",
       "      <td>True</td>\n",
       "    </tr>\n",
       "    <tr>\n",
       "      <th>25</th>\n",
       "      <td>27</td>\n",
       "      <td>1</td>\n",
       "      <td>25</td>\n",
       "      <td>2013-1-009</td>\n",
       "      <td>10</td>\n",
       "      <td>10</td>\n",
       "      <td>23</td>\n",
       "      <td>1</td>\n",
       "      <td>0</td>\n",
       "      <td>-1.0</td>\n",
       "      <td>True</td>\n",
       "    </tr>\n",
       "    <tr>\n",
       "      <th>29</th>\n",
       "      <td>31</td>\n",
       "      <td>1</td>\n",
       "      <td>29</td>\n",
       "      <td>2013-1-011</td>\n",
       "      <td>23</td>\n",
       "      <td>23</td>\n",
       "      <td>43</td>\n",
       "      <td>1</td>\n",
       "      <td>0</td>\n",
       "      <td>-1.0</td>\n",
       "      <td>True</td>\n",
       "    </tr>\n",
       "    <tr>\n",
       "      <th>43</th>\n",
       "      <td>45</td>\n",
       "      <td>1</td>\n",
       "      <td>32</td>\n",
       "      <td>2013-1-018</td>\n",
       "      <td>2</td>\n",
       "      <td>2</td>\n",
       "      <td>1</td>\n",
       "      <td>1</td>\n",
       "      <td>0</td>\n",
       "      <td>-1.0</td>\n",
       "      <td>True</td>\n",
       "    </tr>\n",
       "  </tbody>\n",
       "</table>\n",
       "</div>"
      ],
      "text/plain": [
       "    id  location score_player    match_id  home_team_id  score_team_id  \\\n",
       "5    7         1            6  2013-1-002            19             19   \n",
       "9   11         1           10  2013-1-004            12             12   \n",
       "25  27         1           25  2013-1-009            10             10   \n",
       "29  31         1           29  2013-1-011            23             23   \n",
       "43  45         1           32  2013-1-018             2              2   \n",
       "\n",
       "    play_time  score_point  diff_score  previous_status  tying_goal_flag  \n",
       "5          44            1           0             -1.0             True  \n",
       "9          22            1           0             -1.0             True  \n",
       "25         23            1           0             -1.0             True  \n",
       "29         43            1           0             -1.0             True  \n",
       "43          1            1           0             -1.0             True  "
      ]
     },
     "execution_count": 30,
     "metadata": {},
     "output_type": "execute_result"
    }
   ],
   "source": [
    "target_pd[target_pd.tying_goal_flag == True].head()"
   ]
  },
  {
   "cell_type": "code",
   "execution_count": 31,
   "metadata": {},
   "outputs": [],
   "source": [
    "player_list = db_conn.select_query('SELECT * FROM player_info')"
   ]
  },
  {
   "cell_type": "code",
   "execution_count": 32,
   "metadata": {},
   "outputs": [],
   "source": [
    "player_list_pd = pd.DataFrame(player_list, columns=['player_id', 'player_name'])\n",
    "get_player_name = lambda x: player_list_pd.loc[x-1].get(1)"
   ]
  },
  {
   "cell_type": "markdown",
   "metadata": {},
   "source": [
    "##### 1. 전체(5년) 기간 중 동점골 득점 랭킹"
   ]
  },
  {
   "cell_type": "code",
   "execution_count": 33,
   "metadata": {},
   "outputs": [
    {
     "data": {
      "text/html": [
       "<div>\n",
       "<style scoped>\n",
       "    .dataframe tbody tr th:only-of-type {\n",
       "        vertical-align: middle;\n",
       "    }\n",
       "\n",
       "    .dataframe tbody tr th {\n",
       "        vertical-align: top;\n",
       "    }\n",
       "\n",
       "    .dataframe thead th {\n",
       "        text-align: right;\n",
       "    }\n",
       "</style>\n",
       "<table border=\"1\" class=\"dataframe\">\n",
       "  <thead>\n",
       "    <tr style=\"text-align: right;\">\n",
       "      <th></th>\n",
       "      <th>score_player</th>\n",
       "      <th>player_name</th>\n",
       "      <th>tying_goal_flag</th>\n",
       "    </tr>\n",
       "  </thead>\n",
       "  <tbody>\n",
       "    <tr>\n",
       "      <th>142</th>\n",
       "      <td>227</td>\n",
       "      <td>주민규</td>\n",
       "      <td>15.0</td>\n",
       "    </tr>\n",
       "    <tr>\n",
       "      <th>51</th>\n",
       "      <td>145</td>\n",
       "      <td>산토스</td>\n",
       "      <td>12.0</td>\n",
       "    </tr>\n",
       "    <tr>\n",
       "      <th>95</th>\n",
       "      <td>185</td>\n",
       "      <td>양동현</td>\n",
       "      <td>12.0</td>\n",
       "    </tr>\n",
       "    <tr>\n",
       "      <th>556</th>\n",
       "      <td>60</td>\n",
       "      <td>이종호</td>\n",
       "      <td>12.0</td>\n",
       "    </tr>\n",
       "    <tr>\n",
       "      <th>132</th>\n",
       "      <td>218</td>\n",
       "      <td>고경민</td>\n",
       "      <td>11.0</td>\n",
       "    </tr>\n",
       "    <tr>\n",
       "      <th>122</th>\n",
       "      <td>209</td>\n",
       "      <td>정조국</td>\n",
       "      <td>11.0</td>\n",
       "    </tr>\n",
       "    <tr>\n",
       "      <th>136</th>\n",
       "      <td>221</td>\n",
       "      <td>알렉스8</td>\n",
       "      <td>10.0</td>\n",
       "    </tr>\n",
       "  </tbody>\n",
       "</table>\n",
       "</div>"
      ],
      "text/plain": [
       "     score_player player_name  tying_goal_flag\n",
       "142           227         주민규             15.0\n",
       "51            145         산토스             12.0\n",
       "95            185         양동현             12.0\n",
       "556            60         이종호             12.0\n",
       "132           218         고경민             11.0\n",
       "122           209         정조국             11.0\n",
       "136           221        알렉스8             10.0"
      ]
     },
     "execution_count": 33,
     "metadata": {},
     "output_type": "execute_result"
    }
   ],
   "source": [
    "tgpd = pd.DataFrame(target_pd.groupby(['score_player']).sum()[['tying_goal_flag']], columns = ['player_name', 'tying_goal_flag'])\n",
    "tgpd.reset_index(level=0, inplace=True)\n",
    "tgpd.score_player = tgpd.score_player.apply(pd.to_numeric)\n",
    "tgpd.player_name = tgpd.score_player.apply(get_player_name)\n",
    "tgpd = tgpd.sort_values(by=['tying_goal_flag'], ascending=False)\n",
    "tgpd[tgpd.tying_goal_flag >= 10]"
   ]
  },
  {
   "cell_type": "markdown",
   "metadata": {},
   "source": [
    "##### 2. 연도별 동점골 득점 랭킹"
   ]
  },
  {
   "cell_type": "code",
   "execution_count": 34,
   "metadata": {},
   "outputs": [
    {
     "data": {
      "text/html": [
       "<div>\n",
       "<style scoped>\n",
       "    .dataframe tbody tr th:only-of-type {\n",
       "        vertical-align: middle;\n",
       "    }\n",
       "\n",
       "    .dataframe tbody tr th {\n",
       "        vertical-align: top;\n",
       "    }\n",
       "\n",
       "    .dataframe thead th {\n",
       "        text-align: right;\n",
       "    }\n",
       "</style>\n",
       "<table border=\"1\" class=\"dataframe\">\n",
       "  <thead>\n",
       "    <tr style=\"text-align: right;\">\n",
       "      <th></th>\n",
       "      <th>year</th>\n",
       "      <th>score_player</th>\n",
       "      <th>player_name</th>\n",
       "      <th>tying_goal_flag</th>\n",
       "      <th>rank</th>\n",
       "    </tr>\n",
       "  </thead>\n",
       "  <tbody>\n",
       "    <tr>\n",
       "      <th>0</th>\n",
       "      <td>2013</td>\n",
       "      <td>1</td>\n",
       "      <td>데얀</td>\n",
       "      <td>5.0</td>\n",
       "      <td>1.0</td>\n",
       "    </tr>\n",
       "    <tr>\n",
       "      <th>434</th>\n",
       "      <td>2014</td>\n",
       "      <td>318</td>\n",
       "      <td>스토야노비치</td>\n",
       "      <td>6.0</td>\n",
       "      <td>1.0</td>\n",
       "    </tr>\n",
       "    <tr>\n",
       "      <th>660</th>\n",
       "      <td>2015</td>\n",
       "      <td>218</td>\n",
       "      <td>고경민</td>\n",
       "      <td>6.0</td>\n",
       "      <td>1.0</td>\n",
       "    </tr>\n",
       "    <tr>\n",
       "      <th>661</th>\n",
       "      <td>2015</td>\n",
       "      <td>227</td>\n",
       "      <td>주민규</td>\n",
       "      <td>6.0</td>\n",
       "      <td>1.0</td>\n",
       "    </tr>\n",
       "    <tr>\n",
       "      <th>835</th>\n",
       "      <td>2015</td>\n",
       "      <td>524</td>\n",
       "      <td>타라바이</td>\n",
       "      <td>6.0</td>\n",
       "      <td>1.0</td>\n",
       "    </tr>\n",
       "    <tr>\n",
       "      <th>964</th>\n",
       "      <td>2016</td>\n",
       "      <td>209</td>\n",
       "      <td>정조국</td>\n",
       "      <td>8.0</td>\n",
       "      <td>1.0</td>\n",
       "    </tr>\n",
       "    <tr>\n",
       "      <th>1520</th>\n",
       "      <td>2017</td>\n",
       "      <td>752</td>\n",
       "      <td>말컹</td>\n",
       "      <td>6.0</td>\n",
       "      <td>1.0</td>\n",
       "    </tr>\n",
       "    <tr>\n",
       "      <th>131</th>\n",
       "      <td>2013</td>\n",
       "      <td>217</td>\n",
       "      <td>박종찬</td>\n",
       "      <td>4.0</td>\n",
       "      <td>2.0</td>\n",
       "    </tr>\n",
       "    <tr>\n",
       "      <th>251</th>\n",
       "      <td>2013</td>\n",
       "      <td>46</td>\n",
       "      <td>황진성</td>\n",
       "      <td>4.0</td>\n",
       "      <td>2.0</td>\n",
       "    </tr>\n",
       "    <tr>\n",
       "      <th>372</th>\n",
       "      <td>2014</td>\n",
       "      <td>221</td>\n",
       "      <td>알렉스8</td>\n",
       "      <td>5.0</td>\n",
       "      <td>2.0</td>\n",
       "    </tr>\n",
       "    <tr>\n",
       "      <th>1170</th>\n",
       "      <td>2016</td>\n",
       "      <td>636</td>\n",
       "      <td>파울로</td>\n",
       "      <td>6.0</td>\n",
       "      <td>2.0</td>\n",
       "    </tr>\n",
       "    <tr>\n",
       "      <th>1177</th>\n",
       "      <td>2016</td>\n",
       "      <td>642</td>\n",
       "      <td>김신</td>\n",
       "      <td>6.0</td>\n",
       "      <td>2.0</td>\n",
       "    </tr>\n",
       "    <tr>\n",
       "      <th>1280</th>\n",
       "      <td>2017</td>\n",
       "      <td>185</td>\n",
       "      <td>양동현</td>\n",
       "      <td>5.0</td>\n",
       "      <td>2.0</td>\n",
       "    </tr>\n",
       "    <tr>\n",
       "      <th>1299</th>\n",
       "      <td>2017</td>\n",
       "      <td>227</td>\n",
       "      <td>주민규</td>\n",
       "      <td>5.0</td>\n",
       "      <td>2.0</td>\n",
       "    </tr>\n",
       "    <tr>\n",
       "      <th>1474</th>\n",
       "      <td>2017</td>\n",
       "      <td>709</td>\n",
       "      <td>디에고</td>\n",
       "      <td>5.0</td>\n",
       "      <td>2.0</td>\n",
       "    </tr>\n",
       "    <tr>\n",
       "      <th>350</th>\n",
       "      <td>2014</td>\n",
       "      <td>185</td>\n",
       "      <td>양동현</td>\n",
       "      <td>4.0</td>\n",
       "      <td>3.0</td>\n",
       "    </tr>\n",
       "    <tr>\n",
       "      <th>429</th>\n",
       "      <td>2014</td>\n",
       "      <td>313</td>\n",
       "      <td>드로겟</td>\n",
       "      <td>4.0</td>\n",
       "      <td>3.0</td>\n",
       "    </tr>\n",
       "    <tr>\n",
       "      <th>3</th>\n",
       "      <td>2013</td>\n",
       "      <td>101</td>\n",
       "      <td>황일수</td>\n",
       "      <td>3.0</td>\n",
       "      <td>4.0</td>\n",
       "    </tr>\n",
       "    <tr>\n",
       "      <th>78</th>\n",
       "      <td>2013</td>\n",
       "      <td>17</td>\n",
       "      <td>이동국</td>\n",
       "      <td>3.0</td>\n",
       "      <td>4.0</td>\n",
       "    </tr>\n",
       "    <tr>\n",
       "      <th>95</th>\n",
       "      <td>2013</td>\n",
       "      <td>185</td>\n",
       "      <td>양동현</td>\n",
       "      <td>3.0</td>\n",
       "      <td>4.0</td>\n",
       "    </tr>\n",
       "  </tbody>\n",
       "</table>\n",
       "</div>"
      ],
      "text/plain": [
       "      year  score_player player_name  tying_goal_flag  rank\n",
       "0     2013             1          데얀              5.0   1.0\n",
       "434   2014           318      스토야노비치              6.0   1.0\n",
       "660   2015           218         고경민              6.0   1.0\n",
       "661   2015           227         주민규              6.0   1.0\n",
       "835   2015           524        타라바이              6.0   1.0\n",
       "964   2016           209         정조국              8.0   1.0\n",
       "1520  2017           752          말컹              6.0   1.0\n",
       "131   2013           217         박종찬              4.0   2.0\n",
       "251   2013            46         황진성              4.0   2.0\n",
       "372   2014           221        알렉스8              5.0   2.0\n",
       "1170  2016           636         파울로              6.0   2.0\n",
       "1177  2016           642          김신              6.0   2.0\n",
       "1280  2017           185         양동현              5.0   2.0\n",
       "1299  2017           227         주민규              5.0   2.0\n",
       "1474  2017           709         디에고              5.0   2.0\n",
       "350   2014           185         양동현              4.0   3.0\n",
       "429   2014           313         드로겟              4.0   3.0\n",
       "3     2013           101         황일수              3.0   4.0\n",
       "78    2013            17         이동국              3.0   4.0\n",
       "95    2013           185         양동현              3.0   4.0"
      ]
     },
     "execution_count": 34,
     "metadata": {},
     "output_type": "execute_result"
    }
   ],
   "source": [
    "tgpd_year = pd.DataFrame(target_pd, columns = ['id', 'location', 'score_player', 'year', 'match_id', 'home_team_id', 'score_team_id', 'play_time', 'score_point', 'diff_score', 'previous_status', 'tying_goal_flag'])\n",
    "tgpd_year.year = tgpd_year.match_id.str.split('-').str.get(0)\n",
    "tgpd_year.year = tgpd_year.year.apply(pd.to_numeric)\n",
    "tgpd_year = pd.DataFrame(tgpd_year.groupby(['year', 'score_player']).sum()[['tying_goal_flag']], columns= ['player_name', 'tying_goal_flag', 'rank'])\n",
    "tgpd_year.reset_index(level=[0,1], inplace=True)\n",
    "tgpd_year.score_player = tgpd_year.score_player.apply(pd.to_numeric)\n",
    "tgpd_year.player_name = tgpd_year.score_player.apply(get_player_name)\n",
    "tgpd_year['rank'] = tgpd_year.groupby('year')['tying_goal_flag'].rank(method='min', ascending=False)\n",
    "tgpd_year = tgpd_year.sort_values(by=['rank', 'year'])\n",
    "tgpd_year.head(20)"
   ]
  },
  {
   "cell_type": "markdown",
   "metadata": {},
   "source": [
    "동점골은 무승부로 갈 확률을 높게한다  - GOOD\n",
    "\n",
    "이와 같은 개념과 방법으로 결승골 분석을 해보면 좋을 듯..\n",
    "\n",
    "\n"
   ]
  },
  {
   "cell_type": "code",
   "execution_count": null,
   "metadata": {},
   "outputs": [],
   "source": []
  }
 ],
 "metadata": {
  "kernelspec": {
   "display_name": "Python 3",
   "language": "python",
   "name": "python3"
  },
  "language_info": {
   "codemirror_mode": {
    "name": "ipython",
    "version": 3
   },
   "file_extension": ".py",
   "mimetype": "text/x-python",
   "name": "python",
   "nbconvert_exporter": "python",
   "pygments_lexer": "ipython3",
   "version": "3.5.4"
  }
 },
 "nbformat": 4,
 "nbformat_minor": 2
}
