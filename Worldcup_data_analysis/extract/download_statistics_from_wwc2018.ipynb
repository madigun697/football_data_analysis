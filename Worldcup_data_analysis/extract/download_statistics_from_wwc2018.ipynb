{
 "cells": [
  {
   "cell_type": "code",
   "execution_count": 3,
   "metadata": {},
   "outputs": [],
   "source": [
    "from bs4 import BeautifulSoup\n",
    "import requests\n",
    "from selenium import webdriver\n",
    "import selenium.webdriver.support.ui as UI"
   ]
  },
  {
   "cell_type": "code",
   "execution_count": 4,
   "metadata": {},
   "outputs": [],
   "source": [
    "web_urls =[ 'https://www.fifa.com/worldcup/matches/?#groupphase',\n",
    "          'https://www.fifa.com/worldcup/matches/?#knockoutphase']\n",
    "driver = webdriver.Chrome('/Users/gracelee/Documents/chromedriver')\n",
    "driver.implicitly_wait(3)\n",
    "driver.get('chrome://settings/content/pdfDocuments')\n",
    "#setting pdf를 download로 변경해야함"
   ]
  },
  {
   "cell_type": "code",
   "execution_count": null,
   "metadata": {},
   "outputs": [],
   "source": [
    "for url in web_urls[1:]:\n",
    "    res = requests.get(url)\n",
    "    html_txt = res.text\n",
    "    soup = BeautifulSoup(html_txt, 'html.parser')\n",
    "    match_links = soup.findAll(\"a\", {\"class\": \"fi-mu__link\"})\n",
    "    for match_link in match_links:\n",
    "#         match_res = requests.get('https://www.fifa.com%s%s' % (match_link['href'], '#match-info'))\n",
    "#         print('https://www.fifa.com%s%s' % (match_links[0]['href'], '#match-info'))\n",
    "#         pdfs = soup.findAll('a', {'class':'fi-doclist__link'})\n",
    "#         print(pdfs[0]['href'])\n",
    "        page = driver.get('https://www.fifa.com%s%s' % (match_link['href'], '#match-info'))\n",
    "        driver.implicitly_wait(3)\n",
    "        pdf_list = driver.find_elements_by_class_name('fi-doclist__link')\n",
    "        for pdf in pdf_list:\n",
    "            driver.implicitly_wait(3)\n",
    "            print(pdf.get_attribute('href'))\n",
    "            driver.get(pdf.get_attribute('href'))\n",
    "            driver.implicitly_wait(5)\n",
    "#             driver.back(\"window.history.go(-1)\")"
   ]
  }
 ],
 "metadata": {
  "kernelspec": {
   "display_name": "Python 3",
   "language": "python",
   "name": "python3"
  },
  "language_info": {
   "codemirror_mode": {
    "name": "ipython",
    "version": 3
   },
   "file_extension": ".py",
   "mimetype": "text/x-python",
   "name": "python",
   "nbconvert_exporter": "python",
   "pygments_lexer": "ipython3",
   "version": "3.5.4"
  }
 },
 "nbformat": 4,
 "nbformat_minor": 2
}
